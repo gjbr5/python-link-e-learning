{
 "cells": [
  {
   "cell_type": "markdown",
   "metadata": {},
   "source": [
    "***\n",
    "### Q1\n",
    "***"
   ]
  },
  {
   "cell_type": "markdown",
   "metadata": {},
   "source": [
    "1000 ~ 9999 까지(1000과 9999도 계산에 포함)의 네 자리 숫자 가운데에 '10'을 포함하는 숫자의 갯수는?"
   ]
  },
  {
   "cell_type": "markdown",
   "metadata": {},
   "source": [
    "#### Answer1"
   ]
  },
  {
   "cell_type": "code",
   "execution_count": 1,
   "metadata": {},
   "outputs": [
    {
     "data": {
      "text/plain": [
       "279"
      ]
     },
     "execution_count": 1,
     "metadata": {},
     "output_type": "execute_result"
    }
   ],
   "source": [
    "sum(['10' in str(x) for x in range(1000, 10000)])"
   ]
  },
  {
   "cell_type": "markdown",
   "metadata": {},
   "source": [
    "***\n",
    "### Q2\n",
    "***"
   ]
  },
  {
   "cell_type": "markdown",
   "metadata": {},
   "source": [
    "10 ~ 99999 까지(10과 99999도 계산에 포함)의 숫자 가운데에 20의 배수이며 '080'을 포함하는 숫자의 갯수는?"
   ]
  },
  {
   "cell_type": "markdown",
   "metadata": {},
   "source": [
    "#### Answer2"
   ]
  },
  {
   "cell_type": "code",
   "execution_count": 2,
   "metadata": {},
   "outputs": [
    {
     "data": {
      "text/plain": [
       "108"
      ]
     },
     "execution_count": 2,
     "metadata": {},
     "output_type": "execute_result"
    }
   ],
   "source": [
    "sum([x % 20 == 0 and '080' in str(x) for x in range(10, 100000)])"
   ]
  },
  {
   "cell_type": "markdown",
   "metadata": {},
   "source": [
    "***\n",
    "### Q3\n",
    "***"
   ]
  },
  {
   "cell_type": "markdown",
   "metadata": {},
   "source": [
    "d = {'Hospital':0, 'PostOffice':1, 'Phamacy':2, 'School':3, 'Home':4, 'Convenience':5, 'DepartmentStore':6, 'BeautySalon':7, 'Lotteria':8}는 사전 자료형이며, \n",
    "각 element의 key는 건물 이름을 의미하고 value는 아래 'map'에서 건물의 위치를 의미한다.\n",
    "'철수'는 매일 집에서 09:00에 나와서 정확히 30분마다 인접한 건물로 이동한다고 했을 때, 18:00에 'Hospital'에 있을 확률 p(0.0 <= p <= 1.0)는 얼마인가?  \n",
    "'철수'는 30분마다 꼭 인접한 건물로 이동해야하며(같은 건물에 30분을 초과하여 체류할 수 없음) 대각선에 위치한 건물로는 이동할 수 없다고 가정한다."
   ]
  },
  {
   "cell_type": "markdown",
   "metadata": {},
   "source": [
    "| |map| |\n",
    "|:--:|:--:|:--:|\n",
    "|0 |1 |2 |\n",
    "|3 |4 |5 |\n",
    "|6 |7 |8 |"
   ]
  },
  {
   "cell_type": "code",
   "execution_count": 3,
   "metadata": {},
   "outputs": [
    {
     "name": "stdout",
     "output_type": "stream",
     "text": [
      "{'Hospital': 0, 'PostOffice': 1, 'Phamacy': 2, 'School': 3, 'Home': 4, 'Convenience': 5, 'DepartmentStore': 6, 'BeautySalon': 7, 'Lotteria': 8}\n"
     ]
    }
   ],
   "source": [
    "d = {'Hospital':0, 'PostOffice':1, 'Phamacy':2, 'School':3, 'Home':4, 'Convenience':5, 'DepartmentStore':6, 'BeautySalon':7, 'Lotteria':8}\n",
    "print(d)"
   ]
  },
  {
   "cell_type": "markdown",
   "metadata": {},
   "source": [
    "#### Answer3"
   ]
  },
  {
   "cell_type": "code",
   "execution_count": 4,
   "metadata": {},
   "outputs": [
    {
     "name": "stdout",
     "output_type": "stream",
     "text": [
      "0.16666666666666666\n"
     ]
    }
   ],
   "source": [
    "p_init = {0: 0, 1: 0, 2: 0, 3: 0, 4: 1, 5: 0, 6: 0, 7: 0, 8: 0}\n",
    "\n",
    "def get_new_p(p):\n",
    "    new_p = {}\n",
    "    new_p[0] = (p[1] + p[3]) / 3\n",
    "    new_p[2] = (p[1] + p[5]) / 3\n",
    "    new_p[6] = (p[3] + p[7]) / 3\n",
    "    new_p[8] = (p[5] + p[7]) / 3\n",
    "    new_p[1] = (p[0] + p[2]) / 2 + p[4] / 4\n",
    "    new_p[3] = (p[0] + p[6]) / 2 + p[4] / 4\n",
    "    new_p[5] = (p[2] + p[8]) / 2 + p[4] / 4\n",
    "    new_p[7] = (p[6] + p[8]) / 2 + p[4] / 4\n",
    "    new_p[4] = (p[1] + p[3] + p[5] + p[7]) / 3\n",
    "    return new_p\n",
    "\n",
    "def increase_time(hour, min):\n",
    "    min += 30\n",
    "    hour += min // 60\n",
    "    min %= 60\n",
    "    return hour, min\n",
    "\n",
    "def move(start_hour, start_min, end_hour, end_min, p):\n",
    "    hour, min = start_hour, start_min\n",
    "    while hour < end_hour or (hour == end_hour and min < end_min):\n",
    "        p = get_new_p(p)\n",
    "        hour, min = increase_time(hour, min)\n",
    "    return p\n",
    "\n",
    "p = move(9, 0, 18, 0, p_init)\n",
    "p_hospital = p[d['Hospital']]\n",
    "print(p_hospital)"
   ]
  },
  {
   "cell_type": "markdown",
   "metadata": {},
   "source": [
    "                                                        2020.09.10    Q1 ~ Q3 by Jubong Kim"
   ]
  }
 ],
 "metadata": {
  "kernelspec": {
   "display_name": "Python 3",
   "language": "python",
   "name": "python3"
  },
  "language_info": {
   "codemirror_mode": {
    "name": "ipython",
    "version": 3
   },
   "file_extension": ".py",
   "mimetype": "text/x-python",
   "name": "python",
   "nbconvert_exporter": "python",
   "pygments_lexer": "ipython3",
   "version": "3.7.6"
  }
 },
 "nbformat": 4,
 "nbformat_minor": 2
}
