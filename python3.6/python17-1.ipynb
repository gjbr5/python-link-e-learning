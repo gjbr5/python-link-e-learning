{
 "cells": [
  {
   "cell_type": "code",
   "execution_count": 3,
   "metadata": {},
   "outputs": [],
   "source": [
    "import sys\n",
    "# sys.path.append('/Users/jubong/git/python-link-e-learning/')"
   ]
  },
  {
   "cell_type": "code",
   "execution_count": 4,
   "metadata": {},
   "outputs": [
    {
     "ename": "ModuleNotFoundError",
     "evalue": "No module named 'mymath'",
     "output_type": "error",
     "traceback": [
      "\u001b[0;31m---------------------------------------------------------------------------\u001b[0m",
      "\u001b[0;31mModuleNotFoundError\u001b[0m                       Traceback (most recent call last)",
      "\u001b[0;32m<ipython-input-4-7ec2ad592c70>\u001b[0m in \u001b[0;36m<module>\u001b[0;34m\u001b[0m\n\u001b[0;32m----> 1\u001b[0;31m \u001b[0;32mimport\u001b[0m \u001b[0mmymath\u001b[0m\u001b[0;34m\u001b[0m\u001b[0;34m\u001b[0m\u001b[0m\n\u001b[0m",
      "\u001b[0;31mModuleNotFoundError\u001b[0m: No module named 'mymath'"
     ]
    }
   ],
   "source": [
    "import mymath"
   ]
  },
  {
   "cell_type": "code",
   "execution_count": 5,
   "metadata": {},
   "outputs": [
    {
     "name": "stdout",
     "output_type": "stream",
     "text": [
      "['/Users/jubong/anaconda3/lib/python36.zip', '/Users/jubong/anaconda3/lib/python3.6', '/Users/jubong/anaconda3/lib/python3.6/lib-dynload', '', '/Users/jubong/anaconda3/lib/python3.6/site-packages', '/Users/jubong/anaconda3/lib/python3.6/site-packages/aeosa', '/Users/jubong/git/ml-agents/ml-agents', '/Users/jubong/git/ml-agents/gym-unity', '/Users/jubong/git/ml-agents/ml-agents-envs', '/Users/jubong/git/mujoco-py', '/Users/jubong/anaconda3/lib/python3.6/site-packages/IPython/extensions', '/Users/jubong/.ipython']\n"
     ]
    }
   ],
   "source": [
    "print(sys.path)"
   ]
  },
  {
   "cell_type": "code",
   "execution_count": 6,
   "metadata": {},
   "outputs": [],
   "source": [
    "sys.path.append('/Users/jubong/git/python-link-e-learning/')"
   ]
  },
  {
   "cell_type": "code",
   "execution_count": 7,
   "metadata": {},
   "outputs": [
    {
     "name": "stdout",
     "output_type": "stream",
     "text": [
      "['/Users/jubong/anaconda3/lib/python36.zip', '/Users/jubong/anaconda3/lib/python3.6', '/Users/jubong/anaconda3/lib/python3.6/lib-dynload', '', '/Users/jubong/anaconda3/lib/python3.6/site-packages', '/Users/jubong/anaconda3/lib/python3.6/site-packages/aeosa', '/Users/jubong/git/ml-agents/ml-agents', '/Users/jubong/git/ml-agents/gym-unity', '/Users/jubong/git/ml-agents/ml-agents-envs', '/Users/jubong/git/mujoco-py', '/Users/jubong/anaconda3/lib/python3.6/site-packages/IPython/extensions', '/Users/jubong/.ipython', '/Users/jubong/git/python-link-e-learning/']\n"
     ]
    }
   ],
   "source": [
    "print(sys.path)"
   ]
  },
  {
   "cell_type": "code",
   "execution_count": 8,
   "metadata": {},
   "outputs": [],
   "source": [
    "del(sys.path[-1])"
   ]
  },
  {
   "cell_type": "code",
   "execution_count": 9,
   "metadata": {},
   "outputs": [
    {
     "name": "stdout",
     "output_type": "stream",
     "text": [
      "['/Users/jubong/anaconda3/lib/python36.zip', '/Users/jubong/anaconda3/lib/python3.6', '/Users/jubong/anaconda3/lib/python3.6/lib-dynload', '', '/Users/jubong/anaconda3/lib/python3.6/site-packages', '/Users/jubong/anaconda3/lib/python3.6/site-packages/aeosa', '/Users/jubong/git/ml-agents/ml-agents', '/Users/jubong/git/ml-agents/gym-unity', '/Users/jubong/git/ml-agents/ml-agents-envs', '/Users/jubong/git/mujoco-py', '/Users/jubong/anaconda3/lib/python3.6/site-packages/IPython/extensions', '/Users/jubong/.ipython']\n"
     ]
    }
   ],
   "source": [
    "print(sys.path)"
   ]
  },
  {
   "cell_type": "code",
   "execution_count": 10,
   "metadata": {},
   "outputs": [
    {
     "ename": "ModuleNotFoundError",
     "evalue": "No module named 'mymath'",
     "output_type": "error",
     "traceback": [
      "\u001b[0;31m---------------------------------------------------------------------------\u001b[0m",
      "\u001b[0;31mModuleNotFoundError\u001b[0m                       Traceback (most recent call last)",
      "\u001b[0;32m<ipython-input-10-7ec2ad592c70>\u001b[0m in \u001b[0;36m<module>\u001b[0;34m\u001b[0m\n\u001b[0;32m----> 1\u001b[0;31m \u001b[0;32mimport\u001b[0m \u001b[0mmymath\u001b[0m\u001b[0;34m\u001b[0m\u001b[0;34m\u001b[0m\u001b[0m\n\u001b[0m",
      "\u001b[0;31mModuleNotFoundError\u001b[0m: No module named 'mymath'"
     ]
    }
   ],
   "source": [
    "import mymath"
   ]
  },
  {
   "cell_type": "code",
   "execution_count": 11,
   "metadata": {},
   "outputs": [
    {
     "ename": "NameError",
     "evalue": "name 'mymath' is not defined",
     "output_type": "error",
     "traceback": [
      "\u001b[0;31m---------------------------------------------------------------------------\u001b[0m",
      "\u001b[0;31mNameError\u001b[0m                                 Traceback (most recent call last)",
      "\u001b[0;32m<ipython-input-11-29a33c16623a>\u001b[0m in \u001b[0;36m<module>\u001b[0;34m\u001b[0m\n\u001b[0;32m----> 1\u001b[0;31m \u001b[0mprint\u001b[0m\u001b[0;34m(\u001b[0m\u001b[0mmymath\u001b[0m\u001b[0;34m.\u001b[0m\u001b[0mmypi\u001b[0m\u001b[0;34m)\u001b[0m\u001b[0;34m\u001b[0m\u001b[0;34m\u001b[0m\u001b[0m\n\u001b[0m",
      "\u001b[0;31mNameError\u001b[0m: name 'mymath' is not defined"
     ]
    }
   ],
   "source": [
    "print(mymath.mypi)"
   ]
  },
  {
   "cell_type": "code",
   "execution_count": null,
   "metadata": {},
   "outputs": [],
   "source": []
  }
 ],
 "metadata": {
  "kernelspec": {
   "display_name": "Python 3",
   "language": "python",
   "name": "python3"
  },
  "language_info": {
   "codemirror_mode": {
    "name": "ipython",
    "version": 3
   },
   "file_extension": ".py",
   "mimetype": "text/x-python",
   "name": "python",
   "nbconvert_exporter": "python",
   "pygments_lexer": "ipython3",
   "version": "3.6.8"
  }
 },
 "nbformat": 4,
 "nbformat_minor": 2
}
