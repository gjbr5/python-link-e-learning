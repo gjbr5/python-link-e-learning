{
 "cells": [
  {
   "cell_type": "markdown",
   "metadata": {},
   "source": [
    "# mpPool"
   ]
  },
  {
   "cell_type": "markdown",
   "metadata": {},
   "source": [
    "```python\n",
    "# Assignment03.my_func\n",
    "import os\n",
    "import time\n",
    "\n",
    "\n",
    "def my_func(work):\n",
    "    print(\"일: {0}, Process ID: {1}\".format(work, os.getpid()))\n",
    "    time.sleep(1)\n",
    "    return work\n",
    "```"
   ]
  },
  {
   "cell_type": "code",
   "execution_count": 1,
   "metadata": {},
   "outputs": [
    {
     "name": "stdout",
     "output_type": "stream",
     "text": [
      "[0, 1, 2, 3, 4, 5, 6, 7, 8, 9, 10, 11, 12, 13, 14, 15, 16, 17, 18, 19, 20, 21, 22, 23, 24, 25, 26, 27, 28, 29]\n",
      "작업 시간: 약 12s\n"
     ]
    }
   ],
   "source": [
    "from Assignment03 import my_func\n",
    "from multiprocessing import Pool\n",
    "import time\n",
    "\n",
    "\n",
    "if __name__ == \"__main__\":\n",
    "    p = Pool(3)\n",
    "    start_time = int(time.time())\n",
    "    print(p.map(my_func, range(0, 30)))\n",
    "    end_time = int(time.time())\n",
    "    print(\"작업 시간: 약 {0}s\".format(end_time - start_time))        "
   ]
  },
  {
   "cell_type": "markdown",
   "metadata": {},
   "source": [
    "## 자식 프로세스 수행 결과\n",
    "\n",
    "일: 0, Process ID: 1800\n",
    "\n",
    "일: 3, Process ID: 21512\n",
    "\n",
    "일: 6, Process ID: 20216\n",
    "\n",
    "일: 1, Process ID: 1800\n",
    "\n",
    "일: 4, Process ID: 21512\n",
    "\n",
    "일: 7, Process ID: 20216\n",
    "\n",
    "일: 2, Process ID: 1800\n",
    "\n",
    "일: 5, Process ID: 21512\n",
    "\n",
    "일: 8, Process ID: 20216\n",
    "\n",
    "일: 9, Process ID: 1800\n",
    "\n",
    "일: 12, Process ID: 21512\n",
    "\n",
    "일: 15, Process ID: 20216\n",
    "\n",
    "일: 10, Process ID: 1800\n",
    "\n",
    "일: 13, Process ID: 21512\n",
    "\n",
    "일: 16, Process ID: 20216\n",
    "\n",
    "일: 11, Process ID: 1800\n",
    "\n",
    "일: 14, Process ID: 21512\n",
    "\n",
    "일: 17, Process ID: 20216\n",
    "\n",
    "일: 18, Process ID: 1800\n",
    "\n",
    "일: 21, Process ID: 21512\n",
    "\n",
    "일: 24, Process ID: 20216\n",
    "\n",
    "일: 19, Process ID: 1800\n",
    "\n",
    "일: 22, Process ID: 21512\n",
    "\n",
    "일: 25, Process ID: 20216\n",
    "\n",
    "일: 20, Process ID: 1800\n",
    "\n",
    "일: 23, Process ID: 21512\n",
    "\n",
    "일: 26, Process ID: 20216\n",
    "\n",
    "일: 27, Process ID: 1800\n",
    "\n",
    "일: 28, Process ID: 1800\n",
    "\n",
    "일: 29, Process ID: 1800"
   ]
  },
  {
   "cell_type": "markdown",
   "metadata": {},
   "source": [
    "# mpProcess"
   ]
  },
  {
   "cell_type": "markdown",
   "metadata": {},
   "source": [
    "```python\n",
    "# Assignment03.seconds_timer\n",
    "import os\n",
    "import time\n",
    "\n",
    "\n",
    "def seconds_timer(end_time):\n",
    "    start_time = time.time()\n",
    "    while True:\n",
    "        time.sleep(0.001)\n",
    "        if time.time() - start_time >= end_time:\n",
    "            break\n",
    "    proc = os.getpid()\n",
    "    print(\"{0} seconds have elapsed by process id: {1}\".format(end_time, proc))\n",
    "```"
   ]
  },
  {
   "cell_type": "code",
   "execution_count": 2,
   "metadata": {},
   "outputs": [
    {
     "name": "stdout",
     "output_type": "stream",
     "text": [
      "작업 시간: 약 5s\n"
     ]
    }
   ],
   "source": [
    "from Assignment03 import seconds_timer\n",
    "from multiprocessing import Process\n",
    "\n",
    "\n",
    "if __name__ == \"__main__\":\n",
    "    end_time_list = [5, 5, 5]\n",
    "    procs = []\n",
    "    \n",
    "    start_time = int(time.time())\n",
    "    for end_time in end_time_list:\n",
    "        proc = Process(target=seconds_timer, args=(end_time,))\n",
    "        procs.append(proc)\n",
    "        proc.start()\n",
    "    \n",
    "    for proc in procs:\n",
    "        proc.join()\n",
    "    \n",
    "    end_time = int(time.time())\n",
    "    print(\"작업 시간: 약 {0}s\".format(end_time - start_time))"
   ]
  },
  {
   "cell_type": "markdown",
   "metadata": {},
   "source": [
    "## 자식 프로세스 수행 결과\n",
    "\n",
    "5 seconds have elapsed by process id: 13792\n",
    "\n",
    "5 seconds have elapsed by process id: 19224\n",
    "\n",
    "5 seconds have elapsed by process id: 5060"
   ]
  },
  {
   "cell_type": "markdown",
   "metadata": {},
   "source": [
    "# mpQueue"
   ]
  },
  {
   "cell_type": "markdown",
   "metadata": {},
   "source": [
    "```python\n",
    "# Assignment03.data_creator, Assignment03.data_consumer\n",
    "import random\n",
    "\n",
    "\n",
    "def data_creator(max_data_number, q):\n",
    "    print(\"Creating data!\")\n",
    "    for _ in range(max_data_number):\n",
    "        data = random.random()\n",
    "        q.put(data)\n",
    "    q.put(None)\n",
    "\n",
    "\n",
    "def data_consumer(q):\n",
    "    while True:\n",
    "        data = q.get()\n",
    "        if data is None:\n",
    "             break\n",
    "        print(\"Consumed data {}\".format(data))\n",
    "```"
   ]
  },
  {
   "cell_type": "code",
   "execution_count": 3,
   "metadata": {},
   "outputs": [],
   "source": [
    "from Assignment03 import data_creator, data_consumer\n",
    "from multiprocessing import Process, Queue\n",
    "\n",
    "\n",
    "if __name__ == \"__main__\":\n",
    "    q = Queue()\n",
    "    \n",
    "    max_data_number = 10\n",
    "    process_creator = Process(target=data_creator, args=(max_data_number, q))\n",
    "    process_consumer = Process(target=data_consumer, args=(q,))\n",
    "    process_creator.start()\n",
    "    process_consumer.start()\n",
    "    \n",
    "    q.close()\n",
    "    q.join_thread()\n",
    "    \n",
    "    process_creator.join()\n",
    "    process_consumer.join()"
   ]
  },
  {
   "cell_type": "markdown",
   "metadata": {},
   "source": [
    "## 자식 프로세스 수행 결과\n",
    "\n",
    "Creating data!\n",
    "\n",
    "Consumed data 0.6525269090738696\n",
    "\n",
    "Consumed data 0.14061408665303288\n",
    "\n",
    "Consumed data 0.5057967729225479\n",
    "\n",
    "Consumed data 0.24175337087125037\n",
    "\n",
    "Consumed data 0.9683572142900576\n",
    "\n",
    "Consumed data 0.30301814664961124\n",
    "\n",
    "Consumed data 0.54387352394155\n",
    "\n",
    "Consumed data 0.19522457285343275\n",
    "\n",
    "Consumed data 0.6203505499410765\n",
    "\n",
    "Consumed data 0.4861772434623659"
   ]
  }
 ],
 "metadata": {
  "kernelspec": {
   "display_name": "Python 3",
   "language": "python",
   "name": "python3"
  },
  "language_info": {
   "codemirror_mode": {
    "name": "ipython",
    "version": 3
   },
   "file_extension": ".py",
   "mimetype": "text/x-python",
   "name": "python",
   "nbconvert_exporter": "python",
   "pygments_lexer": "ipython3",
   "version": "3.7.6"
  }
 },
 "nbformat": 4,
 "nbformat_minor": 4
}
