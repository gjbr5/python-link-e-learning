{
 "cells": [
  {
   "cell_type": "markdown",
   "metadata": {},
   "source": [
    "## Quiz\n",
    "\n",
    "### 나만의 deque 자료구조 만들기\n",
    "\n",
    "#### Python list 관련 함수만을 활용할 것\n",
    "\n",
    "#### mydeque = MyDeque(): 덱 생성\n",
    "\n",
    "#### mydeque.func(\"push_front X\"): 정수 X를 덱의 앞에 넣는다.\n",
    "#### mydeque.func(\"push_back X\"): 정수 X를 덱의 뒤에 넣는다.\n",
    "#### mydeque.func(\"pop_front\"): 덱의 가장 앞에 있는 수를 빼고, 그 수를 출력한다. 만약, 덱에 들어있는 정수가 없는 경우에는 -1을 출력한다.\n",
    "#### mydeque.func(\"pop_back\"): 덱의 가장 뒤에 있는 수를 빼고, 그 수를 출력한다. 만약, 덱에 들어있는 정수가 없는 경우에는 -1을 출력한다.\n",
    "#### mydeque.func(\"size\"): 덱에 들어있는 정수의 개수를 출력한다.\n",
    "#### mydeque.func(\"empty\"): 덱이 비어있으면 1을, 아니면 0을 출력한다.\n",
    "#### mydeque.func(\"front\"): 덱의 가장 앞에 있는 정수를 출력한다. 만약 덱에 들어있는 정수가 없는 경우에는 -1을 출력한다.\n",
    "#### mydeque.func(\"back\"): 덱의 가장 뒤에 있는 정수를 출력한다. 만약 덱에 들어있는 정수가 없는 경우에는 -1을 출력한다.\n",
    "\n",
    "#### print(mydeque): 현재 덱 출력\n",
    "#### mydeque: 현재 덱 출력\n",
    "#### 현재 덱 출력 결과: e.g. 덱에 들어있는 값이 1, 2, 3 정수들일때 --> mydeque([1, 2, 3])\n",
    "\n",
    "#### 본인이 만든 deque 모든 함수들의 사용예시 각자 제시할 것"
   ]
  },
  {
   "cell_type": "code",
   "execution_count": 1,
   "metadata": {},
   "outputs": [],
   "source": [
    "class MyDeque:\n",
    "    def __init__(self):\n",
    "        self.__deque = []\n",
    "\n",
    "    def func(self, command):\n",
    "        commands = {\n",
    "            \"push_front\": self.__push_front,\n",
    "            \"push_back\": self.__push_back,\n",
    "            \"pop_front\": self.__pop_front,\n",
    "            \"pop_back\": self.__pop_back,\n",
    "            \"size\": self.__size,\n",
    "            \"empty\": self.__empty,\n",
    "            \"front\": self.__front,\n",
    "            \"back\": self.__back            \n",
    "        }\n",
    "        try:\n",
    "            if command.startswith(\"push\"):\n",
    "                command, arg = command.split()\n",
    "                commands[command](int(arg))\n",
    "            else:\n",
    "                return commands[command]()\n",
    "        except ValueError as argexc:\n",
    "            raise ValueError(\"Push Argument must be Integer\") from argexc\n",
    "        except KeyError as cmdexc:\n",
    "            raise ValueError(\"No Such Command\") from cmdexc\n",
    "            \n",
    "    def __push_front(self, x):\n",
    "        self.__deque.insert(0, x)\n",
    "        \n",
    "    def __push_back(self, x):\n",
    "        self.__deque.append(x)\n",
    "        \n",
    "    def __pop_front(self):\n",
    "        try:\n",
    "            return self.__deque.pop(0)\n",
    "        except IndexError:\n",
    "            return -1\n",
    "        \n",
    "    def __pop_back(self):\n",
    "        try:\n",
    "            return self.__deque.pop()\n",
    "        except IndexError:\n",
    "            return -1\n",
    "    \n",
    "    def __size(self):\n",
    "        return len(self.__deque)\n",
    "    \n",
    "    def __empty(self):\n",
    "        return 0 if bool(self.__deque) else 1\n",
    "    \n",
    "    def __front(self):\n",
    "        try:\n",
    "            return self.__deque[0]\n",
    "        except IndexError:\n",
    "            return -1\n",
    "    \n",
    "    def __back(self):\n",
    "        try:\n",
    "            return self.__deque[-1]\n",
    "        except IndexError:\n",
    "            return -1\n",
    "    \n",
    "    def __repr__(self):\n",
    "        return \"mydeque({})\".format(self.__deque)\n",
    "    \n",
    "    def __str__(self):\n",
    "        return \"mydeque({})\".format(self.__deque)"
   ]
  },
  {
   "cell_type": "code",
   "execution_count": 2,
   "metadata": {},
   "outputs": [],
   "source": [
    "mydeque = MyDeque() # []"
   ]
  },
  {
   "cell_type": "code",
   "execution_count": 3,
   "metadata": {},
   "outputs": [
    {
     "name": "stdout",
     "output_type": "stream",
     "text": [
      "-1\n",
      "-1\n"
     ]
    }
   ],
   "source": [
    "print(mydeque.func(\"front\")) # -1\n",
    "print(mydeque.func(\"back\")) # -1"
   ]
  },
  {
   "cell_type": "code",
   "execution_count": 4,
   "metadata": {},
   "outputs": [],
   "source": [
    "mydeque.func(\"push_back 200\") # -> [200]\n",
    "mydeque.func(\"push_front 100\") # -> [100, 200]\n",
    "mydeque.func(\"push_back 300\") # -> [100, 200, 300]"
   ]
  },
  {
   "cell_type": "code",
   "execution_count": 5,
   "metadata": {},
   "outputs": [
    {
     "data": {
      "text/plain": [
       "mydeque([100, 200, 300])"
      ]
     },
     "execution_count": 5,
     "metadata": {},
     "output_type": "execute_result"
    }
   ],
   "source": [
    "mydeque # mydeque([100, 200, 300])"
   ]
  },
  {
   "cell_type": "code",
   "execution_count": 6,
   "metadata": {},
   "outputs": [
    {
     "name": "stdout",
     "output_type": "stream",
     "text": [
      "100\n",
      "300\n"
     ]
    }
   ],
   "source": [
    "print(mydeque.func(\"front\")) # 100\n",
    "print(mydeque.func(\"back\")) # 300"
   ]
  },
  {
   "cell_type": "code",
   "execution_count": 7,
   "metadata": {},
   "outputs": [
    {
     "name": "stdout",
     "output_type": "stream",
     "text": [
      "300\n",
      "100\n"
     ]
    }
   ],
   "source": [
    "print(mydeque.func(\"pop_back\")) # 300 -> [100, 200]\n",
    "print(mydeque.func(\"pop_front\")) # 100 -> [200]"
   ]
  },
  {
   "cell_type": "code",
   "execution_count": 8,
   "metadata": {},
   "outputs": [
    {
     "name": "stdout",
     "output_type": "stream",
     "text": [
      "mydeque([200])\n"
     ]
    }
   ],
   "source": [
    "print(mydeque) # mydeque([200])"
   ]
  },
  {
   "cell_type": "code",
   "execution_count": 9,
   "metadata": {},
   "outputs": [
    {
     "name": "stdout",
     "output_type": "stream",
     "text": [
      "1\n",
      "0\n"
     ]
    }
   ],
   "source": [
    "print(mydeque.func(\"size\")) # 1\n",
    "print(mydeque.func(\"empty\")) # 0"
   ]
  },
  {
   "cell_type": "code",
   "execution_count": 10,
   "metadata": {
    "scrolled": true
   },
   "outputs": [
    {
     "name": "stdout",
     "output_type": "stream",
     "text": [
      "200\n",
      "1\n"
     ]
    }
   ],
   "source": [
    "print(mydeque.func(\"pop_front\")) # 200 -> []\n",
    "print(mydeque.func(\"empty\")) # 1"
   ]
  },
  {
   "cell_type": "code",
   "execution_count": 11,
   "metadata": {},
   "outputs": [
    {
     "name": "stdout",
     "output_type": "stream",
     "text": [
      "No Such Command\n"
     ]
    }
   ],
   "source": [
    "try:\n",
    "    mydeque.func(\"pop\") # Invalid Command\n",
    "except ValueError as e:\n",
    "    print(e)"
   ]
  },
  {
   "cell_type": "code",
   "execution_count": 12,
   "metadata": {},
   "outputs": [
    {
     "name": "stdout",
     "output_type": "stream",
     "text": [
      "Push Argument must be Integer\n"
     ]
    }
   ],
   "source": [
    "try:\n",
    "    mydeque.func(\"push_back X\") # Invalid Argument\n",
    "except ValueError as e:\n",
    "    print(e)"
   ]
  }
 ],
 "metadata": {
  "kernelspec": {
   "display_name": "Python 3",
   "language": "python",
   "name": "python3"
  },
  "language_info": {
   "codemirror_mode": {
    "name": "ipython",
    "version": 3
   },
   "file_extension": ".py",
   "mimetype": "text/x-python",
   "name": "python",
   "nbconvert_exporter": "python",
   "pygments_lexer": "ipython3",
   "version": "3.6.10"
  }
 },
 "nbformat": 4,
 "nbformat_minor": 2
}
