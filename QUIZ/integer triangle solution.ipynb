{
 "cells": [
  {
   "attachments": {
    "image.png": {
     "image/png": "[encoded data removed]"
    }
   },
   "cell_type": "markdown",
   "metadata": {},
   "source": [
    "![image.png](attachment:image.png)"
   ]
  },
  {
   "cell_type": "markdown",
   "metadata": {},
   "source": [
    "### Quiz\n",
    "\n",
    "위 그림은 크기가 5인 정수 삼각형의 한 모습이다.\n",
    "\n",
    "맨 위층 7부터 시작해서 아래에 있는 수 중 하나를 선택하여 아래층으로 내려올 때, 이제까지 선택된 수의 합이 최대가 되는 경로를 구하는 프로그램을 작성하라. 아래층에 있는 수는 현재 층에서 선택된 수의 대각선 왼쪽 또는 대각선 오른쪽에 있는 것 중에서만 선택할 수 있다.\n",
    "\n",
    "삼각형의 크기는 1 이상 500 이하이다. 삼각형을 이루고 있는 각 수는 모두 정수이며, 범위는 0 이상 9999 이하이다."
   ]
  },
  {
   "cell_type": "markdown",
   "metadata": {},
   "source": [
    "시간 제한: 2초 메모리 제한 128MB"
   ]
  },
  {
   "cell_type": "markdown",
   "metadata": {},
   "source": [
    "### 풀이"
   ]
  },
  {
   "cell_type": "code",
   "execution_count": 1,
   "metadata": {},
   "outputs": [
    {
     "name": "stdout",
     "output_type": "stream",
     "text": [
      "5\n"
     ]
    }
   ],
   "source": [
    "H = int(input())"
   ]
  },
  {
   "cell_type": "code",
   "execution_count": 2,
   "metadata": {},
   "outputs": [
    {
     "name": "stdout",
     "output_type": "stream",
     "text": [
      "7\n",
      "3 8\n",
      "8 1 0\n",
      "2 7 4 4\n",
      "4 5 2 6 5\n"
     ]
    }
   ],
   "source": [
    "int_triangle = []\n",
    "for i in range(H):\n",
    "    input_ = input()\n",
    "    line = list(map(int, input_.split(' ')))\n",
    "    assert len(line) == i + 1\n",
    "    int_triangle.append(line)"
   ]
  },
  {
   "cell_type": "code",
   "execution_count": 3,
   "metadata": {},
   "outputs": [],
   "source": [
    "def solve(depth, idx):\n",
    "    # 재귀를 이용해 맨 밑으로 내려감\n",
    "    if depth < len(sum_triangle) - 2:\n",
    "        solve(depth + 1, idx)\n",
    "    \n",
    "    # 왼쪽에서 오른쪽으로 이동하며 계산\n",
    "    for idx in range(depth+1):\n",
    "        if sum_triangle[depth+1][idx] > sum_triangle[depth+1][idx+1]:\n",
    "            sum_triangle[depth][idx] += sum_triangle[depth+1][idx]\n",
    "            path_triangle[depth][idx] = idx\n",
    "        else:\n",
    "            sum_triangle[depth][idx] += sum_triangle[depth+1][idx+1]\n",
    "            path_triangle[depth][idx] = idx+1\n",
    "    \n",
    "def show_result():\n",
    "    idx = 0\n",
    "    print('경로:', end=' ')\n",
    "    for depth in range(len(path_triangle)):\n",
    "        print(int_triangle[depth][idx], end='->')\n",
    "        idx = path_triangle[depth][idx]\n",
    "    print('\\b\\b  ')\n",
    "    print('수의 합:', sum_triangle[0][0])\n",
    "\n",
    "def main():\n",
    "    global sum_triangle # 합을 저장할 리스트\n",
    "    global path_triangle # 경로를 저장할 리스트\n",
    "    sum_triangle = [[x for x in y] for y in int_triangle]\n",
    "    path_triangle = [[-1 for _ in x] for x in int_triangle]\n",
    "    solve(0, 0)\n",
    "    show_result()"
   ]
  },
  {
   "cell_type": "code",
   "execution_count": 4,
   "metadata": {},
   "outputs": [
    {
     "name": "stdout",
     "output_type": "stream",
     "text": [
      "경로: 7->3->8->7->5->\b\b  \n",
      "수의 합: 30\n",
      "수행 시간: 0.000000초\n"
     ]
    }
   ],
   "source": [
    "import time\n",
    "\n",
    "if __name__ == '__main__':\n",
    "    s = time.time()\n",
    "    main()\n",
    "    e = time.time()\n",
    "    print(\"수행 시간: {0:3.6f}초\".format(e - s))"
   ]
  }
 ],
 "metadata": {
  "kernelspec": {
   "display_name": "Python 3",
   "language": "python",
   "name": "python3"
  },
  "language_info": {
   "codemirror_mode": {
    "name": "ipython",
    "version": 3
   },
   "file_extension": ".py",
   "mimetype": "text/x-python",
   "name": "python",
   "nbconvert_exporter": "python",
   "pygments_lexer": "ipython3",
   "version": "3.7.6"
  }
 },
 "nbformat": 4,
 "nbformat_minor": 2
}
