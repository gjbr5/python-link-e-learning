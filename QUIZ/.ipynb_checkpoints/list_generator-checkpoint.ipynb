{
 "cells": [
  {
   "cell_type": "markdown",
   "metadata": {},
   "source": [
    "## 1. list 내포 - 피타고라스 정리"
   ]
  },
  {
   "cell_type": "markdown",
   "metadata": {},
   "source": [
    "### list 내포를 사용하여 아래 조건을 만족하는 결과 list를 만드시오 (단, 한줄 코딩).\n",
    "\n",
    "    1) 직각 삼각형의 각 변의 길이는 a, b, c 이며 a^2 + b^2 = c^2 이다.\n",
    "    \n",
    "    2) a와 b의 범위는 각각 1~100, c의 범위는 1~1000 일 때, 가능한 직각삼각형의 변의 길이 집합 (a, b, c)를 원소로 갖는 vector를 구하라 (단, a <= b < c).\n",
    "    "
   ]
  },
  {
   "cell_type": "markdown",
   "metadata": {},
   "source": [
    "## 2. list 내포 - 소수 만들기"
   ]
  },
  {
   "cell_type": "markdown",
   "metadata": {},
   "source": [
    "### list 내포를 사용하여 아래 조건을 만족하는 결과 list를 만드시오 (단, 한줄 코딩).\n",
    "\n",
    "    1) 결과 list의 범위는 정수 2~1000 이다.\n",
    "\n",
    "    2) 결과 list는 소수로 이루어진 vector이다.\n",
    "    "
   ]
  },
  {
   "cell_type": "code",
   "execution_count": null,
   "metadata": {},
   "outputs": [],
   "source": []
  }
 ],
 "metadata": {
  "kernelspec": {
   "display_name": "Python 3",
   "language": "python",
   "name": "python3"
  },
  "language_info": {
   "codemirror_mode": {
    "name": "ipython",
    "version": 3
   },
   "file_extension": ".py",
   "mimetype": "text/x-python",
   "name": "python",
   "nbconvert_exporter": "python",
   "pygments_lexer": "ipython3",
   "version": "3.6.8"
  }
 },
 "nbformat": 4,
 "nbformat_minor": 2
}
