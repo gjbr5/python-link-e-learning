{
 "cells": [
  {
   "cell_type": "markdown",
   "metadata": {},
   "source": [
    "\n",
    "#### mydeque = MyDeque(): 덱 생성\n",
    "\n",
    "#### mydeque.func(\"push_front X\"): 정수 X를 덱의 앞에 넣는다.\n",
    "#### mydeque.func(\"push_back X\"): 정수 X를 덱의 뒤에 넣는다.\n",
    "#### mydeque.func(\"pop_front\"): 덱의 가장 앞에 있는 수를 빼고, 그 수를 출력한다. 만약, 덱에 들어있는 정수가 없는 경우에는 -1을 출력한다.\n",
    "#### mydeque.func(\"pop_back\"): 덱의 가장 뒤에 있는 수를 빼고, 그 수를 출력한다. 만약, 덱에 들어있는 정수가 없는 경우에는 -1을 출력한다.\n",
    "#### mydeque.func(\"size\"): 덱에 들어있는 정수의 개수를 출력한다.\n",
    "#### mydeque.func(\"empty\"): 덱이 비어있으면 1을, 아니면 0을 출력한다.\n",
    "#### mydeque.func(\"front\"): 덱의 가장 앞에 있는 정수를 출력한다. 만약 덱에 들어있는 정수가 없는 경우에는 -1을 출력한다.\n",
    "#### mydeque.func(\"back\"): 덱의 가장 뒤에 있는 정수를 출력한다. 만약 덱에 들어있는 정수가 없는 경우에는 -1을 출력한다.\n",
    "\n",
    "#### print(mydeque): 현재 덱 출력\n",
    "#### mydeque: 현재 덱 출력\n",
    "#### 현재 덱 출력 결과: e.g. 덱에 들어있는 값이 1, 2, 3 정수들일때 --> mydeque([1, 2, 3])"
   ]
  },
  {
   "cell_type": "code",
   "execution_count": 54,
   "metadata": {},
   "outputs": [],
   "source": [
    "class MyDeque:\n",
    "    def __init__(self):\n",
    "        self.mydeque = []\n",
    "    \n",
    "    def __str__(self):\n",
    "        return \"mydeque([{}])\".format(\",\".join(self.mydeque))\n",
    "    \n",
    "    def __repr__(self):\n",
    "        return \"mydeque([{}])\".format(\",\".join(self.mydeque))\n",
    "            \n",
    "    def func(self, _input):\n",
    "        _input = _input.split(' ')\n",
    "        if _input[0] == 'push_front':\n",
    "            self.push_front(_input[1])\n",
    "    \n",
    "    def push_front(self, _input):\n",
    "        self.mydeque.insert(0, _input)\n",
    "    \n",
    "    def push_back(self, _input):\n",
    "        self.mydeque.append(_input)\n",
    "        \n",
    "    def pop_front(self):\n",
    "        try:\n",
    "            return self.mydeque.pop(0)\n",
    "        except IndexError:\n",
    "            return -1\n",
    "    \n",
    "    def pop_back(self):\n",
    "        try:\n",
    "            return self.mydeque.pop(-1)\n",
    "        except IndexError:\n",
    "            return -1\n",
    "        \n",
    "    def size(self):\n",
    "        return len(self.mydeque)\n",
    "    \n",
    "    def empty(self):\n",
    "        if self.size() == 0:\n",
    "            return 1\n",
    "        else:\n",
    "            return 0\n",
    "        \n",
    "    def front(self):\n",
    "        try:\n",
    "            return self.mydeque[0]\n",
    "        except IndexError:\n",
    "            return -1\n",
    "        \n",
    "    def back(self):\n",
    "        try:\n",
    "            return self.mydeque[-1]\n",
    "        except IndexError:\n",
    "            return -1"
   ]
  },
  {
   "cell_type": "code",
   "execution_count": null,
   "metadata": {},
   "outputs": [],
   "source": []
  }
 ],
 "metadata": {
  "kernelspec": {
   "display_name": "Python 3",
   "language": "python",
   "name": "python3"
  },
  "language_info": {
   "codemirror_mode": {
    "name": "ipython",
    "version": 3
   },
   "file_extension": ".py",
   "mimetype": "text/x-python",
   "name": "python",
   "nbconvert_exporter": "python",
   "pygments_lexer": "ipython3",
   "version": "3.6.8"
  }
 },
 "nbformat": 4,
 "nbformat_minor": 2
}
