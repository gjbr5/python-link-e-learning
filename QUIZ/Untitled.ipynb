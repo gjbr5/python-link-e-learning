{
 "cells": [
  {
   "cell_type": "code",
   "execution_count": 57,
   "metadata": {},
   "outputs": [],
   "source": [
    "import gym\n",
    "import numpy as np\n",
    "import matplotlib.pyplot as plt\n",
    "from gym.envs.registration import register\n",
    "%matplotlib inline"
   ]
  },
  {
   "cell_type": "code",
   "execution_count": 59,
   "metadata": {},
   "outputs": [],
   "source": [
    "register(\n",
    "    id = 'FrozenLake-v3',\n",
    "    entry_point = 'gym.envs.toy_text:FrozenLakeEnv',\n",
    "    kwargs={\n",
    "        'map_name': '4x4',\n",
    "        'is_slippery': False\n",
    "    }\n",
    ")\n",
    "\n",
    "env = gym.make(\"FrozenLake-v3\")"
   ]
  },
  {
   "cell_type": "code",
   "execution_count": 60,
   "metadata": {},
   "outputs": [
    {
     "name": "stdout",
     "output_type": "stream",
     "text": [
      "env.observation_space.n 16\n",
      "env.action_space.n 4\n",
      "[[0. 0. 0. 0.]\n",
      " [0. 0. 0. 0.]\n",
      " [0. 0. 0. 0.]\n",
      " [0. 0. 0. 0.]\n",
      " [0. 0. 0. 0.]\n",
      " [0. 0. 0. 0.]\n",
      " [0. 0. 0. 0.]\n",
      " [0. 0. 0. 0.]\n",
      " [0. 0. 0. 0.]\n",
      " [0. 0. 0. 0.]\n",
      " [0. 0. 0. 0.]\n",
      " [0. 0. 0. 0.]\n",
      " [0. 0. 0. 0.]\n",
      " [0. 0. 0. 0.]\n",
      " [0. 0. 0. 0.]\n",
      " [0. 0. 0. 0.]]\n"
     ]
    }
   ],
   "source": [
    "print(\"env.observation_space.n\", env.observation_space.n)\n",
    "print(\"env.action_space.n\", env.action_space.n)\n",
    "Q = np.zeros([env.observation_space.n, env.action_space.n])\n",
    "print(Q)"
   ]
  },
  {
   "cell_type": "code",
   "execution_count": 61,
   "metadata": {},
   "outputs": [
    {
     "name": "stdout",
     "output_type": "stream",
     "text": [
      "0\n"
     ]
    }
   ],
   "source": [
    "observation = env.reset()\n",
    "print(observation)"
   ]
  },
  {
   "cell_type": "code",
   "execution_count": 62,
   "metadata": {},
   "outputs": [
    {
     "data": {
      "text/plain": [
       "array([0., 0., 0., 0.])"
      ]
     },
     "execution_count": 62,
     "metadata": {},
     "output_type": "execute_result"
    }
   ],
   "source": [
    "Q[observation, :]"
   ]
  },
  {
   "cell_type": "code",
   "execution_count": 63,
   "metadata": {},
   "outputs": [
    {
     "name": "stdout",
     "output_type": "stream",
     "text": [
      "next_observation 4\n"
     ]
    }
   ],
   "source": [
    "next_observation, reward, done, information = env.step(1)\n",
    "print(\"next_observation\", next_observation)"
   ]
  },
  {
   "cell_type": "code",
   "execution_count": 71,
   "metadata": {},
   "outputs": [],
   "source": [
    "# 테이블을 모두 0으로 초기화\n",
    "Q = np.zeros([env.observation_space.n, env.action_space.n])\n",
    "\n",
    "# 학습 매캐변수를 설정한다.\n",
    "learning_rate = .85\n",
    "discount_reward = .7\n",
    "num_episodes = 5000\n",
    "max_step = 100\n",
    "max_early_stop_length = 20\n",
    "\n",
    "# 보상의 총합계를 담을 리스트를 생성한다.\n",
    "rewardList = []\n",
    "\n",
    "early_stop_length = 0\n",
    "stopped_episode_num = 0\n",
    "for current_episode_num in range(num_episodes):\n",
    "  # 환경을 리셋하고 첫 번째 새로운 관찰(observation)을 얻는다.\n",
    "  observation = env.reset()\n",
    "  rewardAll = 0\n",
    "  done = False\n",
    "  step = 0\n",
    "  # Q 테이블 학습 알고리즘\n",
    "  while step < max_step:\n",
    "    # Q 테이블로부터 (노이즈와 함께) 그리디하게 액션을 선택\n",
    "    action = np.argmax(Q[observation, :] + \n",
    "                       np.random.randn(1, env.action_space.n) * \n",
    "                       ( 1. / (current_episode_num + 1)))\n",
    "    \n",
    "    # 환경으로부터 새로운 상태와 보상을 얻는다.\n",
    "    next_observation, reward, done, information = env.step(action)\n",
    "    \n",
    "    # 새로운 지식을 통해 Q 테이블을 업데이트한다.\n",
    "    Q[observation, action] = Q[observation, action] + learning_rate * (reward + discount_reward * np.max(Q[next_observation, :]) - Q[observation, action])\n",
    "    rewardAll += reward\n",
    "    observation = next_observation\n",
    "    if done:\n",
    "      break\n",
    "    step += 1\n",
    "  early_stop_length += 1\n",
    "  if reward != 1.:\n",
    "    early_stop_length = 0\n",
    "  if early_stop_length >= max_early_stop_length:\n",
    "    break\n",
    "  rewardList.append(rewardAll)\n",
    "  stopped_episode_num = current_episode_num"
   ]
  },
  {
   "cell_type": "code",
   "execution_count": 72,
   "metadata": {},
   "outputs": [
    {
     "name": "stdout",
     "output_type": "stream",
     "text": [
      "Score over time: 0.0048\n",
      "Stopped episode num: 158\n"
     ]
    }
   ],
   "source": [
    "print(\"Score over time: \" + str(sum(rewardList) / num_episodes))\n",
    "print(\"Stopped episode num: \" + str(current_episode_num))"
   ]
  },
  {
   "cell_type": "code",
   "execution_count": 73,
   "metadata": {},
   "outputs": [
    {
     "name": "stdout",
     "output_type": "stream",
     "text": [
      "Final Q-Table Values\n",
      "[[0.      0.16807 0.      0.     ]\n",
      " [0.      0.      0.      0.     ]\n",
      " [0.      0.      0.      0.     ]\n",
      " [0.      0.      0.      0.     ]\n",
      " [0.      0.2401  0.      0.     ]\n",
      " [0.      0.      0.      0.     ]\n",
      " [0.      0.      0.      0.     ]\n",
      " [0.      0.      0.      0.     ]\n",
      " [0.      0.      0.343   0.     ]\n",
      " [0.      0.      0.49    0.     ]\n",
      " [0.      0.7     0.      0.     ]\n",
      " [0.      0.      0.      0.     ]\n",
      " [0.      0.      0.      0.     ]\n",
      " [0.      0.      0.      0.     ]\n",
      " [0.      0.      1.      0.     ]\n",
      " [0.      0.      0.      0.     ]]\n"
     ]
    }
   ],
   "source": [
    "print(\"Final Q-Table Values\")\n",
    "print(Q)"
   ]
  },
  {
   "cell_type": "code",
   "execution_count": 74,
   "metadata": {},
   "outputs": [],
   "source": [
    "Q_list = list(Q)\n",
    "for i, line in enumerate(Q):\n",
    "    Q_list[i] = list(map(float, line))"
   ]
  },
  {
   "cell_type": "code",
   "execution_count": 75,
   "metadata": {},
   "outputs": [
    {
     "name": "stdout",
     "output_type": "stream",
     "text": [
      "[0.0, 0.16806999999986247, 0.0, 0.0]\n",
      "[0.0, 0.0, 0.0, 0.0]\n",
      "[0.0, 0.0, 0.0, 0.0]\n",
      "[0.0, 0.0, 0.0, 0.0]\n",
      "[0.0, 0.24009999999999176, 0.0, 0.0]\n",
      "[0.0, 0.0, 0.0, 0.0]\n",
      "[0.0, 0.0, 0.0, 0.0]\n",
      "[0.0, 0.0, 0.0, 0.0]\n",
      "[0.0, 0.0, 0.3429999999999996, 0.0]\n",
      "[0.0, 0.0, 0.48999999999999994, 0.0]\n",
      "[0.0, 0.7, 0.0, 0.0]\n",
      "[0.0, 0.0, 0.0, 0.0]\n",
      "[0.0, 0.0, 0.0, 0.0]\n",
      "[0.0, 0.0, 0.0, 0.0]\n",
      "[0.0, 0.0, 1.0, 0.0]\n",
      "[0.0, 0.0, 0.0, 0.0]\n"
     ]
    }
   ],
   "source": [
    "for line in Q_list:\n",
    "    print(line)"
   ]
  },
  {
   "cell_type": "code",
   "execution_count": 76,
   "metadata": {},
   "outputs": [
    {
     "name": "stdout",
     "output_type": "stream",
     "text": [
      "\n",
      "\u001b[41mS\u001b[0mFFF\n",
      "FHFH\n",
      "FFFH\n",
      "HFFG\n"
     ]
    }
   ],
   "source": [
    "env.reset()\n",
    "env.render()"
   ]
  },
  {
   "cell_type": "code",
   "execution_count": 77,
   "metadata": {},
   "outputs": [
    {
     "name": "stdout",
     "output_type": "stream",
     "text": [
      "DOWN, LEFT, LEFT, LEFT, \n",
      "DOWN, LEFT, LEFT, LEFT, \n",
      "RIGHT, RIGHT, DOWN, LEFT, \n",
      "LEFT, LEFT, RIGHT, LEFT, \n"
     ]
    }
   ],
   "source": [
    "macro = {\n",
    "  'LEFT':0,\n",
    "  'DOWN':1,\n",
    "  'RIGHT':2,\n",
    "  'UP':3\n",
    "}\n",
    "\n",
    "newLine_interval = 4\n",
    "ni = 0\n",
    "for cell in Q:\n",
    "  action = np.argmax(cell[:])\n",
    "  for key, value in macro.items():\n",
    "    if value == action:\n",
    "      action = key\n",
    "      break\n",
    "  print(action, end=', ')\n",
    "  ni += 1\n",
    "  if ni >= 4:\n",
    "    ni = 0\n",
    "    print()\n",
    "    "
   ]
  },
  {
   "cell_type": "code",
   "execution_count": null,
   "metadata": {},
   "outputs": [],
   "source": []
  },
  {
   "cell_type": "code",
   "execution_count": null,
   "metadata": {},
   "outputs": [],
   "source": []
  }
 ],
 "metadata": {
  "kernelspec": {
   "display_name": "Python 3",
   "language": "python",
   "name": "python3"
  },
  "language_info": {
   "codemirror_mode": {
    "name": "ipython",
    "version": 3
   },
   "file_extension": ".py",
   "mimetype": "text/x-python",
   "name": "python",
   "nbconvert_exporter": "python",
   "pygments_lexer": "ipython3",
   "version": "3.6.8"
  }
 },
 "nbformat": 4,
 "nbformat_minor": 2
}
