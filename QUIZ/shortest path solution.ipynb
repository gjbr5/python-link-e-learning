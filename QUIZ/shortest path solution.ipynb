{
 "cells": [
  {
   "cell_type": "code",
   "execution_count": 1,
   "metadata": {},
   "outputs": [
    {
     "name": "stdout",
     "output_type": "stream",
     "text": [
      "5 6\n",
      "[[0, inf, inf, inf, inf], [inf, 0, inf, inf, inf], [inf, inf, 0, inf, inf], [inf, inf, inf, 0, inf], [inf, inf, inf, inf, 0]]\n"
     ]
    }
   ],
   "source": [
    "inputs = list(map(int, input().split(' ')))\n",
    "assert len(inputs) == 2\n",
    "# V = 정점(Vertex), E = 간선(Edge)\n",
    "V, E = inputs\n",
    "\n",
    "# 모든 정점으로부터 모든 정점까지의 가중치를 담은 2차행렬\n",
    "distance_map = [[float('inf') if i != j else 0 for i in range(V)] for j in range(V)]\n",
    "print(distance_map)"
   ]
  },
  {
   "cell_type": "code",
   "execution_count": 2,
   "metadata": {},
   "outputs": [
    {
     "name": "stdout",
     "output_type": "stream",
     "text": [
      "5 1 1\n",
      "1 2 2\n",
      "1 3 3\n",
      "2 3 4\n",
      "2 4 5\n",
      "3 4 6\n"
     ]
    }
   ],
   "source": [
    "for i in range(E):\n",
    "    inputs = list(map(int, input().split(' ')))\n",
    "    assert len(inputs) == 3\n",
    "    u, v, w = inputs\n",
    "    distance_map[u-1][v-1] = w"
   ]
  },
  {
   "cell_type": "code",
   "execution_count": 3,
   "metadata": {},
   "outputs": [
    {
     "name": "stdout",
     "output_type": "stream",
     "text": [
      "[[0, 2, 3, inf, inf], [inf, 0, 4, 5, inf], [inf, inf, 0, 6, inf], [inf, inf, inf, 0, inf], [1, inf, inf, inf, 0]]\n"
     ]
    }
   ],
   "source": [
    "print(distance_map)"
   ]
  },
  {
   "cell_type": "code",
   "execution_count": 4,
   "metadata": {},
   "outputs": [],
   "source": [
    "def get_distance(start_vertex):\n",
    "    start = start_vertex - 1\n",
    "    distance_list = [distance_map[start][v] for v in range(V)]\n",
    "    visited_vertices = []\n",
    "    for i in range(V):\n",
    "        u = 0\n",
    "        min_distance = float('inf')\n",
    "        \n",
    "        for v in range(V):\n",
    "            if (distance_list[v] <= min_distance) and (v not in visited_vertices):\n",
    "                u = v\n",
    "                min_distance = distance_list[v]\n",
    "        visited_vertices.append(u)\n",
    "        \n",
    "        for v in range(V):\n",
    "            if (distance_list[u] + distance_map[u][v] < distance_list[v]) and (v not in visited_vertices):\n",
    "                distance_list[v] = distance_list[u] + distance_map[u][v]\n",
    "    return distance_list"
   ]
  },
  {
   "cell_type": "code",
   "execution_count": 7,
   "metadata": {},
   "outputs": [
    {
     "name": "stdout",
     "output_type": "stream",
     "text": [
      "수행 시간: 0.000038초\n",
      "결과 값: \n",
      "0\n",
      "2\n",
      "3\n",
      "7\n",
      "INF\n"
     ]
    }
   ],
   "source": [
    "import time\n",
    "\n",
    "if __name__ == '__main__':\n",
    "    s = time.time()\n",
    "    result = get_distance(1)\n",
    "    e = time.time()\n",
    "    print(\"수행 시간: {0:3.6f}초\".format(e - s))\n",
    "    print(\"결과 값: \")\n",
    "    for dist in result:\n",
    "        if dist == float('inf'):\n",
    "            print('INF')\n",
    "        else:\n",
    "            print(dist)"
   ]
  },
  {
   "cell_type": "code",
   "execution_count": null,
   "metadata": {},
   "outputs": [],
   "source": []
  }
 ],
 "metadata": {
  "kernelspec": {
   "display_name": "Python 3",
   "language": "python",
   "name": "python3"
  },
  "language_info": {
   "codemirror_mode": {
    "name": "ipython",
    "version": 3
   },
   "file_extension": ".py",
   "mimetype": "text/x-python",
   "name": "python",
   "nbconvert_exporter": "python",
   "pygments_lexer": "ipython3",
   "version": "3.6.8"
  }
 },
 "nbformat": 4,
 "nbformat_minor": 2
}
