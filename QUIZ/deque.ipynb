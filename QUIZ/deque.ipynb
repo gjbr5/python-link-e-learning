{
 "cells": [
  {
   "cell_type": "markdown",
   "metadata": {},
   "source": [
    "## Quiz\n",
    "\n",
    "### 나만의 deque 자료구조 만들기\n",
    "\n",
    "#### Python list 관련 함수만을 활용할 것\n",
    "\n",
    "#### mydeque = MyDeque(): 덱 생성\n",
    "\n",
    "#### mydeque.func(\"push_front X\"): 정수 X를 덱의 앞에 넣는다.\n",
    "#### mydeque.func(\"push_back X\"): 정수 X를 덱의 뒤에 넣는다.\n",
    "#### mydeque.func(\"pop_front\"): 덱의 가장 앞에 있는 수를 빼고, 그 수를 출력한다. 만약, 덱에 들어있는 정수가 없는 경우에는 -1을 출력한다.\n",
    "#### mydeque.func(\"pop_back\"): 덱의 가장 뒤에 있는 수를 빼고, 그 수를 출력한다. 만약, 덱에 들어있는 정수가 없는 경우에는 -1을 출력한다.\n",
    "#### mydeque.func(\"size\"): 덱에 들어있는 정수의 개수를 출력한다.\n",
    "#### mydeque.func(\"empty\"): 덱이 비어있으면 1을, 아니면 0을 출력한다.\n",
    "#### mydeque.func(\"front\"): 덱의 가장 앞에 있는 정수를 출력한다. 만약 덱에 들어있는 정수가 없는 경우에는 -1을 출력한다.\n",
    "#### mydeque.func(\"back\"): 덱의 가장 뒤에 있는 정수를 출력한다. 만약 덱에 들어있는 정수가 없는 경우에는 -1을 출력한다.\n",
    "\n",
    "#### print(mydeque): 현재 덱 출력\n",
    "#### mydeque: 현재 덱 출력\n",
    "#### 현재 덱 출력 결과: e.g. 덱에 들어있는 값이 1, 2, 3 정수들일때 --> mydeque([1, 2, 3])\n",
    "\n",
    "#### 본인이 만든 deque 모든 함수들의 사용예시 각자 제시할 것"
   ]
  },
  {
   "cell_type": "code",
   "execution_count": null,
   "metadata": {},
   "outputs": [],
   "source": []
  }
 ],
 "metadata": {
  "kernelspec": {
   "display_name": "Python 3",
   "language": "python",
   "name": "python3"
  },
  "language_info": {
   "codemirror_mode": {
    "name": "ipython",
    "version": 3
   },
   "file_extension": ".py",
   "mimetype": "text/x-python",
   "name": "python",
   "nbconvert_exporter": "python",
   "pygments_lexer": "ipython3",
   "version": "3.6.8"
  }
 },
 "nbformat": 4,
 "nbformat_minor": 2
}
