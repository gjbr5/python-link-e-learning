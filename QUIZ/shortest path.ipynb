{
 "cells": [
  {
   "cell_type": "markdown",
   "metadata": {},
   "source": [
    "### 최단경로\n",
    "\n",
    "방향그래프가 주어지면 주어진 시작점에서 다른 모든 정점으로의 최단 경로를 구하는 프로그램을 작성하시오. 단, 모든 간선의 가중치는 10 이하의 자연수이다.\n",
    "(제한 시간: 1초)\n",
    "\n",
    "#### 입력\n",
    "첫째 줄에 정점의 개수 V와 간선의 개수 E가 주어진다. (1≤V≤20,000, 1≤E≤300,000) 모든 정점에는 1부터 V까지 번호가 매겨져 있다고 가정한다. 둘째 줄에는 시작 정점의 번호 K(1≤K≤V)가 주어진다. 셋째 줄부터 E개의 줄에 걸쳐 각 간선을 나타내는 세 개의 정수 (u, v, w)가 순서대로 주어진다. 이는 u에서 v로 가는 가중치 w인 간선이 존재한다는 뜻이다. u와 v는 서로 다르며 w는 10 이하의 자연수이다.\n",
    "\n",
    "#### 출력\n",
    "첫째 줄부터 V개의 줄에 걸쳐, i번째 줄에 i번 정점으로의 최단 경로의 경로값을 출력한다. 시작점 자신은 0으로 출력하고, 경로가 존재하지 않는 경우에는 INF를 출력하면 된다."
   ]
  },
  {
   "cell_type": "markdown",
   "metadata": {},
   "source": [
    "<img src=\"shortest path example.png\">"
   ]
  },
  {
   "cell_type": "code",
   "execution_count": 1,
   "metadata": {},
   "outputs": [
    {
     "name": "stdout",
     "output_type": "stream",
     "text": [
      "5 6\n",
      "[[0, inf, inf, inf, inf], [inf, 0, inf, inf, inf], [inf, inf, 0, inf, inf], [inf, inf, inf, 0, inf], [inf, inf, inf, inf, 0]]\n"
     ]
    }
   ],
   "source": [
    "inputs = list(map(int, input().split(' ')))\n",
    "assert len(inputs) == 2\n",
    "# V = 정점(Vertex), E = 간선(Edge)\n",
    "V, E = inputs\n",
    "\n",
    "# 모든 정점으로부터 모든 정점까지의 가중치를 담은 2차행렬\n",
    "distance_map = [[float('inf') if i != j else 0 for i in range(V)] for j in range(V)]\n",
    "print(distance_map)"
   ]
  },
  {
   "cell_type": "code",
   "execution_count": null,
   "metadata": {},
   "outputs": [
    {
     "name": "stdout",
     "output_type": "stream",
     "text": [
      "5 1 1\n",
      "1 2 2\n",
      "1 3 3\n",
      "2 3 4\n",
      "2 4 5\n"
     ]
    }
   ],
   "source": [
    "for i in range(E):\n",
    "    inputs = list(map(int, input().split(' ')))\n",
    "    assert len(inputs) == 3\n",
    "    u, v, w = inputs\n",
    "    distance_map[u-1][v-1] = w"
   ]
  },
  {
   "cell_type": "code",
   "execution_count": 3,
   "metadata": {},
   "outputs": [
    {
     "name": "stdout",
     "output_type": "stream",
     "text": [
      "[[0, 2, 3, inf, inf], [inf, 0, 4, 5, inf], [inf, inf, 0, 6, inf], [inf, inf, inf, 0, inf], [1, inf, inf, inf, 0]]\n"
     ]
    }
   ],
   "source": [
    "print(distance_map)"
   ]
  },
  {
   "cell_type": "code",
   "execution_count": null,
   "metadata": {},
   "outputs": [],
   "source": []
  }
 ],
 "metadata": {
  "kernelspec": {
   "display_name": "Python 3",
   "language": "python",
   "name": "python3"
  },
  "language_info": {
   "codemirror_mode": {
    "name": "ipython",
    "version": 3
   },
   "file_extension": ".py",
   "mimetype": "text/x-python",
   "name": "python",
   "nbconvert_exporter": "python",
   "pygments_lexer": "ipython3",
   "version": "3.6.8"
  }
 },
 "nbformat": 4,
 "nbformat_minor": 2
}
