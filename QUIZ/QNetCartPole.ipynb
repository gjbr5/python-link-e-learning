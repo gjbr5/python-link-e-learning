{
 "cells": [
  {
   "cell_type": "markdown",
   "metadata": {},
   "source": [
    "conda create -n \"lec\" python=3.7\n",
    "\n",
    "python -m ipykernel install --user --name lec --display-name lec\n",
    "\n",
    "conda activate lec"
   ]
  },
  {
   "cell_type": "code",
   "execution_count": 4,
   "metadata": {},
   "outputs": [
    {
     "name": "stdout",
     "output_type": "stream",
     "text": [
      "Requirement already satisfied: tensorflow in /Users/jubong/anaconda3/lib/python3.6/site-packages (1.7.1)\n",
      "Requirement already satisfied: numpy>=1.13.3 in /Users/jubong/anaconda3/lib/python3.6/site-packages (from tensorflow) (1.14.5)\n",
      "Requirement already satisfied: astor>=0.6.0 in /Users/jubong/anaconda3/lib/python3.6/site-packages (from tensorflow) (0.6.2)\n",
      "Requirement already satisfied: gast>=0.2.0 in /Users/jubong/anaconda3/lib/python3.6/site-packages (from tensorflow) (0.2.0)\n",
      "Requirement already satisfied: wheel>=0.26 in /Users/jubong/anaconda3/lib/python3.6/site-packages (from tensorflow) (0.33.4)\n",
      "Requirement already satisfied: protobuf>=3.4.0 in /Users/jubong/anaconda3/lib/python3.6/site-packages (from tensorflow) (3.6.0)\n",
      "Requirement already satisfied: termcolor>=1.1.0 in /Users/jubong/anaconda3/lib/python3.6/site-packages (from tensorflow) (1.1.0)\n",
      "Requirement already satisfied: tensorboard<1.8.0,>=1.7.0 in /Users/jubong/anaconda3/lib/python3.6/site-packages (from tensorflow) (1.7.0)\n",
      "Requirement already satisfied: six>=1.10.0 in /Users/jubong/anaconda3/lib/python3.6/site-packages (from tensorflow) (1.12.0)\n",
      "Requirement already satisfied: grpcio>=1.8.6 in /Users/jubong/anaconda3/lib/python3.6/site-packages (from tensorflow) (1.11.1)\n",
      "Requirement already satisfied: absl-py>=0.1.6 in /Users/jubong/anaconda3/lib/python3.6/site-packages (from tensorflow) (0.2.2)\n",
      "Requirement already satisfied: setuptools in /Users/jubong/anaconda3/lib/python3.6/site-packages (from protobuf>=3.4.0->tensorflow) (41.0.1)\n",
      "Requirement already satisfied: bleach==1.5.0 in /Users/jubong/anaconda3/lib/python3.6/site-packages (from tensorboard<1.8.0,>=1.7.0->tensorflow) (1.5.0)\n",
      "Requirement already satisfied: werkzeug>=0.11.10 in /Users/jubong/anaconda3/lib/python3.6/site-packages (from tensorboard<1.8.0,>=1.7.0->tensorflow) (0.15.4)\n",
      "Requirement already satisfied: markdown>=2.6.8 in /Users/jubong/anaconda3/lib/python3.6/site-packages (from tensorboard<1.8.0,>=1.7.0->tensorflow) (2.6.11)\n",
      "Requirement already satisfied: html5lib==0.9999999 in /Users/jubong/anaconda3/lib/python3.6/site-packages (from tensorboard<1.8.0,>=1.7.0->tensorflow) (0.9999999)\n"
     ]
    }
   ],
   "source": [
    "!pip install gym pyvirtualdisplay > /dev/null 2>&1\n",
    "!apt-get install -y xvfb python-opengl ffmpeg > /dev/null 2>&1\n",
    "!pip install tensorflow"
   ]
  },
  {
   "cell_type": "code",
   "execution_count": 7,
   "metadata": {},
   "outputs": [],
   "source": [
    "import gym\n",
    "from gym import logger as gymlogger\n",
    "from gym.wrappers import Monitor\n",
    "gymlogger.set_level(40) #error only\n",
    "import tensorflow as tf\n",
    "import numpy as np\n",
    "import random\n",
    "import matplotlib\n",
    "import matplotlib.pyplot as plt\n",
    "%matplotlib inline\n",
    "import math\n",
    "import glob\n",
    "import io\n",
    "import base64\n",
    "from IPython.display import HTML\n",
    "\n",
    "from IPython import display as ipythondisplay"
   ]
  },
  {
   "cell_type": "code",
   "execution_count": 8,
   "metadata": {},
   "outputs": [
    {
     "data": {
      "text/plain": [
       "'1.7.1'"
      ]
     },
     "execution_count": 8,
     "metadata": {},
     "output_type": "execute_result"
    }
   ],
   "source": [
    "import tensorflow as tf\n",
    "tf.__version__"
   ]
  },
  {
   "cell_type": "code",
   "execution_count": 9,
   "metadata": {},
   "outputs": [],
   "source": [
    "\"\"\"\n",
    "Utility functions to enable video recording of gym environment and displaying it\n",
    "To enable video, just do \"env = wrap_env(env)\"\"\n",
    "\"\"\"\n",
    "\n",
    "def show_video():\n",
    "    mp4list = glob.glob('video/*.mp4')\n",
    "    if len(mp4list) > 0:\n",
    "        mp4 = mp4list[0]\n",
    "        video = io.open(mp4, 'r+b').read()\n",
    "        encoded = base64.b64encode(video)\n",
    "        ipythondisplay.display(HTML(data='''<video alt=\"test\" autoplay \n",
    "                    loop controls style=\"height: 400px;\">\n",
    "                    <source src=\"data:video/mp4;base64,{0}\" type=\"video/mp4\" />\n",
    "                 </video>'''.format(encoded.decode('ascii'))))\n",
    "    else: \n",
    "        print(\"Could not find video\")\n",
    "    \n",
    "\n",
    "def wrap_env(env):\n",
    "    env = Monitor(env, './video', force=True)\n",
    "    return env"
   ]
  },
  {
   "cell_type": "code",
   "execution_count": 10,
   "metadata": {},
   "outputs": [],
   "source": [
    "import gym\n",
    "import numpy as np\n",
    "import matplotlib.pyplot as plt\n",
    "import tensorflow as tf\n",
    "%matplotlib inline"
   ]
  },
  {
   "cell_type": "code",
   "execution_count": 7,
   "metadata": {},
   "outputs": [
    {
     "name": "stderr",
     "output_type": "stream",
     "text": [
      "/Users/jubong/anaconda3/lib/python3.6/site-packages/gym/envs/registration.py:14: PkgResourcesDeprecationWarning: Parameters to load are deprecated.  Call .resolve and .require separately.\n",
      "  result = entry_point.load(False)\n"
     ]
    },
    {
     "name": "stdout",
     "output_type": "stream",
     "text": [
      "_________________________________________________________________\n",
      "Layer (type)                 Output Shape              Param #   \n",
      "=================================================================\n",
      "input (InputLayer)           (None, 4)                 0         \n",
      "_________________________________________________________________\n",
      "dense_13 (Dense)             (None, 64)                320       \n",
      "_________________________________________________________________\n",
      "leaky_re_lu_9 (LeakyReLU)    (None, 64)                0         \n",
      "_________________________________________________________________\n",
      "dense_14 (Dense)             (None, 64)                4160      \n",
      "_________________________________________________________________\n",
      "leaky_re_lu_10 (LeakyReLU)   (None, 64)                0         \n",
      "_________________________________________________________________\n",
      "dense_15 (Dense)             (None, 2)                 130       \n",
      "=================================================================\n",
      "Total params: 4,610\n",
      "Trainable params: 4,610\n",
      "Non-trainable params: 0\n",
      "_________________________________________________________________\n",
      "_________________________________________________________________\n",
      "Layer (type)                 Output Shape              Param #   \n",
      "=================================================================\n",
      "input (InputLayer)           (None, 4)                 0         \n",
      "_________________________________________________________________\n",
      "dense_16 (Dense)             (None, 64)                320       \n",
      "_________________________________________________________________\n",
      "leaky_re_lu_11 (LeakyReLU)   (None, 64)                0         \n",
      "_________________________________________________________________\n",
      "dense_17 (Dense)             (None, 64)                4160      \n",
      "_________________________________________________________________\n",
      "leaky_re_lu_12 (LeakyReLU)   (None, 64)                0         \n",
      "_________________________________________________________________\n",
      "dense_18 (Dense)             (None, 2)                 130       \n",
      "=================================================================\n",
      "Total params: 4,610\n",
      "Trainable params: 4,610\n",
      "Non-trainable params: 0\n",
      "_________________________________________________________________\n",
      "0, 1, 2, 3, 4, 5, 6, 7, 8, 9, 10, 11, 12, 13, 14, 15, 16, 17, 18, 19, 20, 21, 22, 23, 24, 25, 26, 27, 28, 29, 30, 31, 32, 33, 34, 35, 36, 37, 38, 39, 40, 41, 42, 43, 44, 45, 46, 47, 48, 49, 50, 51, 52, 53, 54, 55, 56, 57, 58, 59, 60, 61, 62, 63, 64, 65, 66, 67, 68, 69, 70, 71, 72, 73, 74, 75, 76, 77, 78, 79, 80, 81, 82, 83, 84, 85, 86, 87, 88, 89, 90, 91, 92, 93, 94, 95, 96, 97, 98, 99, 100, 101, 102, 103, 104, 105, 106, 107, 108, 109, 110, 111, 112, 113, 114, 115, 116, 117, 118, 119, 120, 121, 122, 123, 124, 125, 126, 127, 128, 129, 130, 131, 132, 133, 134, 135, 136, 137, 138, 139, 140, 141, 142, 143, 144, 145, 146, 147, 148, 149, 150, 151, 152, 153, 154, 155, 156, 157, 158, 159, 160, 161, 162, 163, 164, 165, 166, 167, 168, 169, 170, 171, 172, 173, 174, 175, 176, 177, 178, 179, 180, 181, 182, 183, 184, 185, 186, 187, 188, 189, 190, 191, 192, 193, 194, 195, 196, 197, 198, 199, 200, 201, 202, 203, 204, 205, 206, 207, 208, 209, 210, 211, 212, 213, 214, 215, 216, 217, 218, 219, 220, 221, 222, 223, 224, 225, 226, 227, 228, 229, 230, 231, 232, 233, 234, 235, 236, 237, 238, 239, 240, 241, 242, 243, 244, 245, 246, 247, 248, 249, 250, 251, 252, 253, 254, 255, 256, 257, 258, 259, 260, 261, 262, 263, 264, 265, 266, 267, 268, 269, 270, 271, 272, 273, 274, 275, 276, 277, 278, 279, 280, 281, 282, 283, 284, 285, 286, 287, 288, 289, 290, 291, 292, 293, 294, 295, 296, 297, 298, 299, 300, 301, 302, 303, 304, 305, 306, 307, 308, 309, 310, 311, 312, 313, 314, 315, 316, 317, 318, 319, 320, 321, 322, 323, 324, 325, 326, 327, 328, 329, 330, 331, 332, 333, 334, 335, 336, 337, 338, 339, 340, 341, 342, 343, 344, 345, 346, 347, 348, 349, 350, 351, 352, 353, 354, 355, 356, 357, 358, 359, 360, 361, 362, 363, 364, 365, 366, 367, 368, 369, 370, 371, 372, 373, 374, 375, 376, 377, 378, 379, 380, 381, 382, 383, 384, 385, 386, 387, 388, 389, 390, 391, 392, 393, 394, 395, 396, 397, 398, 399, 400, 401, 402, 403, 404, 405, 406, 407, 408, 409, 410, 411, 412, 413, 414, 415, 416, 417, 418, 419, 420, 421, 422, 423, 424, 425, 426, 427, 428, 429, 430, 431, 432, 433, 434, 435, 436, 437, 438, 439, 440, 441, 442, 443, 444, 445, 446, 447, 448, 449, 450, 451, 452, 453, 454, 455, 456, 457, 458, 459, 460, 461, 462, 463, 464, 465, 466, 467, 468, 469, 470, 471, 472, 473, 474, 475, 476, 477, 478, 479, 480, 481, 482, 483, 484, 485, 486, 487, 488, 489, 490, 491, 492, 493, 494, 495, 496, 497, 498, 499, 500, 501, 502, 503, 504, 505, 506, 507, 508, 509, 510, 511, 512, 513, 514, 515, 516, 517, 518, 519, 520, 521, 522, 523, 524, 525, 526, 527, 528, 529, 530, 531, 532, 533, 534, 535, 536, 537, 538, 539, 540, 541, 542, 543, 544, 545, 546, 547, 548, 549, 550, 551, 552, 553, 554, 555, 556, 557, 558, 559, 560, 561, 562, 563, 564, 565, 566, 567, 568, 569, 570, 571, 572, 573, 574, 575, 576, 577, 578, 579, 580, 581, 582, 583, 584, 585, 586, 587, 588, 589, 590, 591, 592, 593, 594, 595, 596, 597, 598, 599, 600, 601, 602, 603, 604, 605, 606, 607, 608, 609, 610, 611, 612, 613, 614, 615, 616, 617, 618, 619, 620, 621, 622, 623, 624, 625, 626, 627, 628, 629, 630, 631, 632, 633, 634, 635, 636, 637, 638, 639, 640, 641, 642, 643, 644, 645, 646, 647, 648, 649, 650, 651, 652, 653, 654, 655, 656, 657, 658, 659, 660, 661, 662, 663, 664, 665, 666, 667, 668, 669, 670, 671, 672, 673, 674, 675, 676, 677, 678, 679, 680, 681, 682, 683, 684, 685, 686, 687, 688, 689, 690, 691, 692, 693, 694, 695, 696, 697, 698, 699, 700, 701, 702, 703, 704, 705, 706, 707, 708, 709, 710, 711, 712, 713, 714, 715, 716, 717, 718, 719, 720, 721, 722, 723, 724, 725, 726, 727, 728, 729, 730, 731, 732, 733, 734, 735, 736, 737, 738, 739, 740, 741, 742, 743, 744, 745, 746, 747, 748, 749, 750, Score over time: 29.674\n",
      "Stopped episode num: 750\n"
     ]
    },
    {
     "data": {
      "image/png": "[encoded data removed]",
      "text/plain": [
       "<Figure size 432x288 with 1 Axes>"
      ]
     },
     "metadata": {
      "needs_background": "light"
     },
     "output_type": "display_data"
    }
   ],
   "source": [
    "import random\n",
    "from collections import deque\n",
    "\n",
    "# 리플레이를 저장할 리스트\n",
    "REPLAY_MEMORY = deque()\n",
    " \n",
    "env = wrap_env(gym.make(\"CartPole-v0\"))\n",
    "\n",
    "input_size = 4\n",
    "output_size = 2\n",
    "\n",
    "# 학습 매캐변수를 설정한다.\n",
    "learning_rate = .001\n",
    "discount_reward = .99\n",
    "num_episodes = 2000\n",
    "max_step = 100\n",
    "max_early_stop_length = 20\n",
    "epsilon_decay = 0.9\n",
    "initial_epsilon = .5\n",
    "min_epsilon = .1\n",
    "batch_size = 64\n",
    "replay_counter = 0\n",
    "\n",
    "# 보상의 총합계를 담을 리스트를 생성한다.\n",
    "rewardList = []\n",
    "\n",
    "def update_weights_target_model():\n",
    "    target_Q_Network_model.set_weights(\n",
    "        Q_Network_model.get_weights()\n",
    "    )\n",
    "\n",
    "def update_from_memory(network, target_network):\n",
    "    global replay_counter\n",
    "    observation_batch = np.ndarray(shape=[batch_size, input_size])\n",
    "    y_batch = np.ndarray(shape=[batch_size, output_size])\n",
    "  \n",
    "    minibatch = random.sample(REPLAY_MEMORY, batch_size)\n",
    "    i = 0\n",
    "    for sample in minibatch:\n",
    "        observation, action, reward, next_observation, done = sample # unpacking\n",
    "        \n",
    "        # policy prediction for a given state\n",
    "        Q_values = network.predict(observation)\n",
    "        if done:\n",
    "            Q_values[0, action] = reward\n",
    "        else:\n",
    "            Q_values_next = target_network.predict(next_observation)\n",
    "            Q_values[0, action] = reward + discount_reward * np.max(Q_values_next)\n",
    "        observation_batch[i] = observation\n",
    "        y_batch[i] = Q_values\n",
    "        i += 1\n",
    "    \n",
    "    # DQN 알고리즘으로 학습\n",
    "    network.fit(\n",
    "        x=np.array(observation_batch),\n",
    "        y=np.array(y_batch),\n",
    "        batch_size=batch_size,\n",
    "        epochs=1,\n",
    "        verbose=0\n",
    "    )\n",
    "    if replay_counter % 10 == 0:\n",
    "        update_weights_target_model()\n",
    "    replay_counter += 1\n",
    "\n",
    "\n",
    "# Q-Network 생성\n",
    "input = tf.keras.Input(shape=[input_size, ], dtype='float32', name='input')\n",
    "output = tf.keras.layers.Dense(64, kernel_initializer='he_normal')(input)\n",
    "output = tf.keras.layers.LeakyReLU(alpha=0.05)(output)\n",
    "output = tf.keras.layers.Dense(64, kernel_initializer='he_normal')(output)\n",
    "output = tf.keras.layers.LeakyReLU(alpha=0.05)(output)\n",
    "output = tf.keras.layers.Dense(output_size, activation='linear')(output)\n",
    "\n",
    "Q_Network_model = tf.keras.Model(input, output)\n",
    "Q_Network_model.summary()\n",
    "\n",
    "Q_Network_model.compile(\n",
    "    loss='mse',\n",
    "    optimizer=tf.keras.optimizers.Adam(lr=learning_rate)\n",
    ")\n",
    "\n",
    "target_output = tf.keras.layers.Dense(64, kernel_initializer='he_normal')(input)\n",
    "target_output = tf.keras.layers.LeakyReLU(alpha=0.05)(target_output)\n",
    "target_output = tf.keras.layers.Dense(64, kernel_initializer='he_normal')(target_output)\n",
    "target_output = tf.keras.layers.LeakyReLU(alpha=0.05)(target_output)\n",
    "target_output = tf.keras.layers.Dense(output_size, activation='linear')(target_output)\n",
    "\n",
    "target_Q_Network_model = tf.keras.Model(input, target_output)\n",
    "target_Q_Network_model.summary()\n",
    "\n",
    "target_Q_Network_model.compile(\n",
    "    loss='mse',\n",
    "    optimizer=tf.keras.optimizers.Adam(lr=learning_rate)\n",
    ")\n",
    "            \n",
    "early_stop_length = 0\n",
    "stopped_episode_num = 0\n",
    "\n",
    "for current_episode_num in range(num_episodes):\n",
    "    # 환경을 리셋하고 첫 번째 새로운 관찰(observation)을 얻는다.\n",
    "    observation = env.reset()\n",
    "    rewardAll = 0\n",
    "    done = False\n",
    "    step = 0\n",
    "    epsilon = initial_epsilon\n",
    "  \n",
    "    print(current_episode_num, end=', ')\n",
    "    # Q 테이블 학습 알고리즘\n",
    "    while not done:\n",
    "        # Q 테이블로부터 (노이즈와 함께) 그리디하게 액션을 선택\n",
    "        observation = np.reshape(observation, (1, input_size))\n",
    "        Q_values = Q_Network_model.predict(observation)\n",
    "        if epsilon > min_epsilon:\n",
    "            epsilon *= epsilon_decay  \n",
    "        if np.random.rand(1) < epsilon:\n",
    "            action = env.action_space.sample()\n",
    "        else:\n",
    "            action = np.argmax(Q_values)\n",
    "      \n",
    "        # 환경으로부터 새로운 상태와 보상을 얻는다.\n",
    "        next_observation, reward, done, information = env.step(action)\n",
    "        next_observation = np.reshape(next_observation, (1, input_size))\n",
    "\n",
    "        # state, action, reward, next_state, done 을 메모리에 저장\n",
    "        REPLAY_MEMORY.append((observation, action, reward, next_observation, done))\n",
    "\n",
    "        # 메모리에 10000개 이상의 값이 들어가면 가장 먼저 들어간 것부터 삭제\n",
    "        if len(REPLAY_MEMORY) > 2000:\n",
    "            REPLAY_MEMORY.popleft()\n",
    "\n",
    "        rewardAll += reward\n",
    "        observation = next_observation\n",
    "        step += 1\n",
    "  \n",
    "    # update model\n",
    "    if len(REPLAY_MEMORY) > batch_size:\n",
    "#         for _ in range(10):\n",
    "        update_from_memory(Q_Network_model, target_Q_Network_model)\n",
    "                       \n",
    "    early_stop_length += 1\n",
    "    if rewardAll <= 195.:\n",
    "        early_stop_length = 0\n",
    "    if early_stop_length >= max_early_stop_length:\n",
    "        break\n",
    "    rewardList.append(rewardAll)\n",
    "    stopped_episode_num = current_episode_num\n",
    "\n",
    "print(\"Score over time: \" + str(sum(rewardList) / num_episodes))\n",
    "print(\"Stopped episode num: \" + str(current_episode_num))\n",
    "\n",
    "plt.plot(rewardList)\n",
    "plt.show()"
   ]
  },
  {
   "cell_type": "code",
   "execution_count": 11,
   "metadata": {},
   "outputs": [
    {
     "name": "stderr",
     "output_type": "stream",
     "text": [
      "/Users/jubong/anaconda3/lib/python3.6/site-packages/gym/envs/registration.py:14: PkgResourcesDeprecationWarning: Parameters to load are deprecated.  Call .resolve and .require separately.\n",
      "  result = entry_point.load(False)\n"
     ]
    },
    {
     "ename": "NameError",
     "evalue": "name 'input_size' is not defined",
     "output_type": "error",
     "traceback": [
      "\u001b[0;31m---------------------------------------------------------------------------\u001b[0m",
      "\u001b[0;31mNameError\u001b[0m                                 Traceback (most recent call last)",
      "\u001b[0;32m<ipython-input-11-79241b524809>\u001b[0m in \u001b[0;36m<module>\u001b[0;34m\u001b[0m\n\u001b[1;32m     13\u001b[0m \u001b[0;32mwhile\u001b[0m \u001b[0;32mTrue\u001b[0m\u001b[0;34m:\u001b[0m\u001b[0;34m\u001b[0m\u001b[0;34m\u001b[0m\u001b[0m\n\u001b[1;32m     14\u001b[0m     \u001b[0menv\u001b[0m\u001b[0;34m.\u001b[0m\u001b[0mrender\u001b[0m\u001b[0;34m(\u001b[0m\u001b[0;34m)\u001b[0m\u001b[0;34m\u001b[0m\u001b[0;34m\u001b[0m\u001b[0m\n\u001b[0;32m---> 15\u001b[0;31m     \u001b[0mobservation\u001b[0m \u001b[0;34m=\u001b[0m \u001b[0mnp\u001b[0m\u001b[0;34m.\u001b[0m\u001b[0mreshape\u001b[0m\u001b[0;34m(\u001b[0m\u001b[0mobservation\u001b[0m\u001b[0;34m,\u001b[0m \u001b[0;34m(\u001b[0m\u001b[0;36m1\u001b[0m\u001b[0;34m,\u001b[0m \u001b[0minput_size\u001b[0m\u001b[0;34m)\u001b[0m\u001b[0;34m)\u001b[0m\u001b[0;34m\u001b[0m\u001b[0;34m\u001b[0m\u001b[0m\n\u001b[0m\u001b[1;32m     16\u001b[0m     \u001b[0;31m#your agent goes here\u001b[0m\u001b[0;34m\u001b[0m\u001b[0;34m\u001b[0m\u001b[0;34m\u001b[0m\u001b[0m\n\u001b[1;32m     17\u001b[0m     \u001b[0maction\u001b[0m \u001b[0;34m=\u001b[0m \u001b[0mnp\u001b[0m\u001b[0;34m.\u001b[0m\u001b[0margmax\u001b[0m\u001b[0;34m(\u001b[0m\u001b[0mQ_Network_model\u001b[0m\u001b[0;34m.\u001b[0m\u001b[0mpredict\u001b[0m\u001b[0;34m(\u001b[0m\u001b[0mobservation\u001b[0m\u001b[0;34m)\u001b[0m\u001b[0;34m)\u001b[0m\u001b[0;34m\u001b[0m\u001b[0;34m\u001b[0m\u001b[0m\n",
      "\u001b[0;31mNameError\u001b[0m: name 'input_size' is not defined"
     ]
    }
   ],
   "source": [
    "import os\n",
    "import glob\n",
    "\n",
    "mp4list = glob.glob('video/*.mp4')\n",
    "for f in mp4list:\n",
    "    os.remove(f)\n",
    "\n",
    "env = wrap_env(gym.make(\"CartPole-v0\"))\n",
    "\n",
    "observation = env.reset()\n",
    "t = 0\n",
    "\n",
    "while True:\n",
    "    env.render()\n",
    "    observation = np.reshape(observation, (1, input_size))\n",
    "    #your agent goes here\n",
    "    action = np.argmax(Q_Network_model.predict(observation))\n",
    "         \n",
    "    observation, reward, done, info = env.step(action)\n",
    "    t += 1\n",
    "    if done:\n",
    "        print(t)\n",
    "        observation = env.reset()\n",
    "    if t >= 1000:\n",
    "        break\n",
    "\n",
    "env.close()\n",
    "show_video()"
   ]
  },
  {
   "cell_type": "code",
   "execution_count": 9,
   "metadata": {},
   "outputs": [
    {
     "name": "stderr",
     "output_type": "stream",
     "text": [
      "/Users/jubong/anaconda3/lib/python3.6/site-packages/gym/envs/registration.py:14: PkgResourcesDeprecationWarning: Parameters to load are deprecated.  Call .resolve and .require separately.\n",
      "  result = entry_point.load(False)\n"
     ]
    }
   ],
   "source": [
    "import gym\n",
    "env = gym.make('CartPole-v0')\n",
    "env.reset()\n",
    "while True:\n",
    "    env.render()\n",
    "    observation = np.reshape(observation, (1, input_size))\n",
    "    #your agent goes here\n",
    "    action = np.argmax(Q_Network_model.predict(observation))\n",
    "         \n",
    "    observation, reward, done, info = env.step(action)\n",
    "    if done:\n",
    "        break\n",
    "env.close()"
   ]
  },
  {
   "cell_type": "code",
   "execution_count": null,
   "metadata": {},
   "outputs": [],
   "source": []
  }
 ],
 "metadata": {
  "kernelspec": {
   "display_name": "lec",
   "language": "python",
   "name": "lec"
  },
  "language_info": {
   "codemirror_mode": {
    "name": "ipython",
    "version": 3
   },
   "file_extension": ".py",
   "mimetype": "text/x-python",
   "name": "python",
   "nbconvert_exporter": "python",
   "pygments_lexer": "ipython3",
   "version": "3.6.8"
  }
 },
 "nbformat": 4,
 "nbformat_minor": 2
}
