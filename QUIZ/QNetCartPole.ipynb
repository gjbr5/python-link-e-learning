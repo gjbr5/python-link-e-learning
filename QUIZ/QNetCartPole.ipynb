{
 "cells": [
  {
   "cell_type": "markdown",
   "metadata": {},
   "source": [
    "conda create -n \"lec\" python=3.7\n",
    "\n",
    "python -m ipykernel install --user --name lec --display-name lec\n",
    "\n",
    "conda activate lec"
   ]
  },
  {
   "cell_type": "code",
   "execution_count": 4,
   "metadata": {},
   "outputs": [
    {
     "name": "stdout",
     "output_type": "stream",
     "text": [
      "Requirement already satisfied: tensorflow in /Users/jubong/anaconda3/lib/python3.6/site-packages (1.7.1)\n",
      "Requirement already satisfied: numpy>=1.13.3 in /Users/jubong/anaconda3/lib/python3.6/site-packages (from tensorflow) (1.14.5)\n",
      "Requirement already satisfied: astor>=0.6.0 in /Users/jubong/anaconda3/lib/python3.6/site-packages (from tensorflow) (0.6.2)\n",
      "Requirement already satisfied: gast>=0.2.0 in /Users/jubong/anaconda3/lib/python3.6/site-packages (from tensorflow) (0.2.0)\n",
      "Requirement already satisfied: wheel>=0.26 in /Users/jubong/anaconda3/lib/python3.6/site-packages (from tensorflow) (0.33.4)\n",
      "Requirement already satisfied: protobuf>=3.4.0 in /Users/jubong/anaconda3/lib/python3.6/site-packages (from tensorflow) (3.6.0)\n",
      "Requirement already satisfied: termcolor>=1.1.0 in /Users/jubong/anaconda3/lib/python3.6/site-packages (from tensorflow) (1.1.0)\n",
      "Requirement already satisfied: tensorboard<1.8.0,>=1.7.0 in /Users/jubong/anaconda3/lib/python3.6/site-packages (from tensorflow) (1.7.0)\n",
      "Requirement already satisfied: six>=1.10.0 in /Users/jubong/anaconda3/lib/python3.6/site-packages (from tensorflow) (1.12.0)\n",
      "Requirement already satisfied: grpcio>=1.8.6 in /Users/jubong/anaconda3/lib/python3.6/site-packages (from tensorflow) (1.11.1)\n",
      "Requirement already satisfied: absl-py>=0.1.6 in /Users/jubong/anaconda3/lib/python3.6/site-packages (from tensorflow) (0.2.2)\n",
      "Requirement already satisfied: setuptools in /Users/jubong/anaconda3/lib/python3.6/site-packages (from protobuf>=3.4.0->tensorflow) (41.0.1)\n",
      "Requirement already satisfied: bleach==1.5.0 in /Users/jubong/anaconda3/lib/python3.6/site-packages (from tensorboard<1.8.0,>=1.7.0->tensorflow) (1.5.0)\n",
      "Requirement already satisfied: werkzeug>=0.11.10 in /Users/jubong/anaconda3/lib/python3.6/site-packages (from tensorboard<1.8.0,>=1.7.0->tensorflow) (0.15.4)\n",
      "Requirement already satisfied: markdown>=2.6.8 in /Users/jubong/anaconda3/lib/python3.6/site-packages (from tensorboard<1.8.0,>=1.7.0->tensorflow) (2.6.11)\n",
      "Requirement already satisfied: html5lib==0.9999999 in /Users/jubong/anaconda3/lib/python3.6/site-packages (from tensorboard<1.8.0,>=1.7.0->tensorflow) (0.9999999)\n"
     ]
    }
   ],
   "source": [
    "!pip install gym pyvirtualdisplay > /dev/null 2>&1\n",
    "!apt-get install -y xvfb python-opengl ffmpeg > /dev/null 2>&1\n",
    "!pip install tensorflow"
   ]
  },
  {
   "cell_type": "code",
   "execution_count": 2,
   "metadata": {},
   "outputs": [],
   "source": [
    "import gym\n",
    "from gym import logger as gymlogger\n",
    "from gym.wrappers import Monitor\n",
    "gymlogger.set_level(40) #error only\n",
    "import tensorflow as tf\n",
    "import numpy as np\n",
    "import random\n",
    "import matplotlib\n",
    "import matplotlib.pyplot as plt\n",
    "%matplotlib inline\n",
    "import math\n",
    "import glob\n",
    "import io\n",
    "import base64\n",
    "from IPython.display import HTML\n",
    "\n",
    "from IPython import display as ipythondisplay"
   ]
  },
  {
   "cell_type": "code",
   "execution_count": 3,
   "metadata": {},
   "outputs": [
    {
     "data": {
      "text/plain": [
       "'1.7.1'"
      ]
     },
     "execution_count": 3,
     "metadata": {},
     "output_type": "execute_result"
    }
   ],
   "source": [
    "import tensorflow as tf\n",
    "tf.__version__"
   ]
  },
  {
   "cell_type": "code",
   "execution_count": 4,
   "metadata": {},
   "outputs": [],
   "source": [
    "\"\"\"\n",
    "Utility functions to enable video recording of gym environment and displaying it\n",
    "To enable video, just do \"env = wrap_env(env)\"\"\n",
    "\"\"\"\n",
    "\n",
    "def show_video():\n",
    "    mp4list = glob.glob('video/*.mp4')\n",
    "    if len(mp4list) > 0:\n",
    "        mp4 = mp4list[0]\n",
    "        video = io.open(mp4, 'r+b').read()\n",
    "        encoded = base64.b64encode(video)\n",
    "        ipythondisplay.display(HTML(data='''<video alt=\"test\" autoplay \n",
    "                    loop controls style=\"height: 400px;\">\n",
    "                    <source src=\"data:video/mp4;base64,{0}\" type=\"video/mp4\" />\n",
    "                 </video>'''.format(encoded.decode('ascii'))))\n",
    "    else: \n",
    "        print(\"Could not find video\")\n",
    "    \n",
    "\n",
    "def wrap_env(env):\n",
    "    env = Monitor(env, './video', force=True)\n",
    "    return env"
   ]
  },
  {
   "cell_type": "code",
   "execution_count": 5,
   "metadata": {},
   "outputs": [],
   "source": [
    "import gym\n",
    "import numpy as np\n",
    "import matplotlib.pyplot as plt\n",
    "import tensorflow as tf\n",
    "%matplotlib inline"
   ]
  },
  {
   "cell_type": "code",
   "execution_count": 6,
   "metadata": {},
   "outputs": [
    {
     "name": "stderr",
     "output_type": "stream",
     "text": [
      "/Users/jubong/anaconda3/lib/python3.6/site-packages/gym/envs/registration.py:14: PkgResourcesDeprecationWarning: Parameters to load are deprecated.  Call .resolve and .require separately.\n",
      "  result = entry_point.load(False)\n"
     ]
    },
    {
     "name": "stdout",
     "output_type": "stream",
     "text": [
      "_________________________________________________________________\n",
      "Layer (type)                 Output Shape              Param #   \n",
      "=================================================================\n",
      "input (InputLayer)           (None, 4)                 0         \n",
      "_________________________________________________________________\n",
      "dense_1 (Dense)              (None, 64)                320       \n",
      "_________________________________________________________________\n",
      "leaky_re_lu_1 (LeakyReLU)    (None, 64)                0         \n",
      "_________________________________________________________________\n",
      "dense_2 (Dense)              (None, 64)                4160      \n",
      "_________________________________________________________________\n",
      "leaky_re_lu_2 (LeakyReLU)    (None, 64)                0         \n",
      "_________________________________________________________________\n",
      "dense_3 (Dense)              (None, 2)                 130       \n",
      "=================================================================\n",
      "Total params: 4,610\n",
      "Trainable params: 4,610\n",
      "Non-trainable params: 0\n",
      "_________________________________________________________________\n",
      "_________________________________________________________________\n",
      "Layer (type)                 Output Shape              Param #   \n",
      "=================================================================\n",
      "input (InputLayer)           (None, 4)                 0         \n",
      "_________________________________________________________________\n",
      "dense_4 (Dense)              (None, 64)                320       \n",
      "_________________________________________________________________\n",
      "leaky_re_lu_3 (LeakyReLU)    (None, 64)                0         \n",
      "_________________________________________________________________\n",
      "dense_5 (Dense)              (None, 64)                4160      \n",
      "_________________________________________________________________\n",
      "leaky_re_lu_4 (LeakyReLU)    (None, 64)                0         \n",
      "_________________________________________________________________\n",
      "dense_6 (Dense)              (None, 2)                 130       \n",
      "=================================================================\n",
      "Total params: 4,610\n",
      "Trainable params: 4,610\n",
      "Non-trainable params: 0\n",
      "_________________________________________________________________\n",
      "0, 1, 2, 3, 4, 5, 6, 7, 8, 9, 10, 11, 12, 13, 14, 15, 16, 17, 18, 19, 20, 21, 22, 23, 24, 25, 26, 27, 28, 29, 30, 31, 32, 33, 34, 35, 36, 37, 38, 39, 40, 41, 42, 43, 44, 45, 46, 47, 48, 49, 50, 51, 52, 53, 54, 55, 56, 57, 58, 59, 60, 61, 62, 63, 64, 65, 66, 67, 68, 69, 70, 71, 72, 73, 74, 75, 76, 77, 78, 79, 80, 81, 82, 83, 84, 85, 86, 87, 88, 89, 90, 91, 92, 93, 94, 95, 96, 97, 98, 99, 100, 101, 102, 103, 104, 105, 106, 107, 108, 109, 110, 111, 112, 113, 114, 115, 116, 117, 118, 119, 120, 121, 122, 123, 124, 125, 126, 127, 128, 129, 130, 131, 132, 133, 134, 135, 136, 137, 138, 139, 140, 141, 142, 143, 144, 145, 146, 147, 148, 149, 150, 151, 152, 153, 154, 155, 156, 157, 158, 159, 160, 161, 162, 163, 164, 165, 166, 167, 168, 169, 170, 171, 172, 173, 174, 175, 176, 177, 178, 179, 180, 181, 182, 183, 184, 185, 186, 187, 188, 189, 190, 191, 192, 193, 194, 195, 196, 197, 198, 199, 200, 201, 202, 203, 204, 205, 206, 207, 208, 209, 210, 211, 212, 213, 214, 215, 216, 217, 218, 219, 220, 221, 222, 223, 224, 225, 226, 227, 228, 229, 230, 231, 232, 233, 234, 235, 236, 237, 238, 239, 240, 241, 242, 243, 244, 245, 246, 247, 248, 249, 250, 251, 252, 253, 254, 255, 256, 257, 258, 259, 260, 261, 262, 263, 264, 265, 266, 267, 268, 269, 270, 271, 272, 273, 274, 275, 276, 277, 278, 279, 280, 281, 282, 283, 284, 285, 286, 287, 288, 289, 290, 291, 292, 293, 294, 295, 296, 297, 298, 299, 300, 301, 302, 303, 304, 305, 306, 307, 308, 309, 310, 311, 312, 313, 314, 315, 316, 317, 318, 319, 320, 321, 322, 323, 324, 325, 326, 327, 328, 329, 330, 331, 332, 333, 334, 335, 336, 337, 338, 339, 340, 341, 342, 343, 344, 345, 346, 347, 348, 349, 350, 351, 352, 353, 354, 355, 356, 357, 358, 359, 360, 361, 362, 363, 364, 365, 366, 367, 368, 369, 370, 371, 372, 373, 374, 375, 376, 377, 378, 379, 380, 381, 382, 383, 384, 385, 386, 387, 388, 389, 390, 391, 392, 393, 394, 395, 396, 397, 398, 399, 400, 401, 402, 403, 404, 405, 406, 407, 408, 409, 410, 411, 412, 413, 414, 415, 416, 417, 418, 419, 420, 421, 422, 423, 424, 425, 426, 427, 428, 429, 430, 431, 432, 433, 434, 435, 436, 437, 438, 439, 440, 441, 442, 443, 444, 445, 446, 447, 448, 449, 450, 451, 452, 453, 454, 455, 456, 457, 458, 459, 460, 461, 462, 463, 464, 465, 466, 467, 468, 469, 470, 471, 472, 473, 474, 475, 476, 477, 478, 479, 480, 481, 482, 483, 484, 485, 486, 487, 488, 489, 490, 491, 492, 493, 494, 495, 496, 497, 498, 499, 500, 501, 502, 503, 504, 505, 506, 507, 508, 509, 510, 511, 512, 513, 514, 515, 516, 517, 518, 519, 520, 521, 522, 523, 524, 525, 526, 527, 528, 529, 530, 531, 532, 533, 534, 535, 536, 537, 538, 539, 540, 541, 542, 543, 544, 545, 546, 547, 548, 549, 550, 551, 552, 553, 554, 555, 556, 557, 558, 559, 560, 561, 562, 563, 564, 565, 566, 567, 568, 569, 570, 571, 572, 573, 574, 575, 576, 577, 578, 579, 580, 581, 582, 583, 584, 585, 586, 587, 588, 589, 590, 591, 592, 593, 594, 595, 596, 597, 598, 599, 600, 601, 602, 603, 604, 605, 606, 607, 608, 609, 610, 611, 612, 613, 614, 615, 616, 617, 618, 619, 620, 621, 622, 623, 624, 625, 626, 627, 628, 629, 630, 631, 632, 633, 634, 635, 636, 637, 638, 639, 640, 641, 642, 643, 644, 645, 646, 647, 648, 649, 650, 651, 652, 653, 654, 655, 656, 657, 658, 659, 660, 661, 662, 663, 664, 665, 666, 667, 668, 669, 670, 671, 672, 673, 674, 675, 676, 677, 678, 679, 680, 681, 682, 683, 684, 685, 686, 687, 688, 689, 690, 691, 692, 693, 694, 695, 696, 697, 698, 699, 700, 701, 702, 703, 704, 705, 706, 707, 708, 709, 710, 711, 712, 713, 714, 715, 716, 717, 718, 719, 720, 721, 722, 723, 724, 725, 726, 727, 728, 729, 730, 731, 732, 733, 734, 735, 736, 737, 738, 739, 740, 741, 742, 743, 744, 745, 746, 747, 748, 749, 750, 751, 752, 753, 754, 755, 756, 757, 758, 759, 760, 761, 762, 763, Score over time: 17.5155\n",
      "Stopped episode num: 763\n"
     ]
    },
    {
     "data": {
      "image/png": "[encoded data removed]",
      "text/plain": [
       "<Figure size 432x288 with 1 Axes>"
      ]
     },
     "metadata": {
      "needs_background": "light"
     },
     "output_type": "display_data"
    }
   ],
   "source": [
    "import random\n",
    "from collections import deque\n",
    "\n",
    "# 리플레이를 저장할 리스트\n",
    "REPLAY_MEMORY = deque()\n",
    " \n",
    "env = wrap_env(gym.make(\"CartPole-v0\"))\n",
    "\n",
    "input_size = 4\n",
    "output_size = 2\n",
    "\n",
    "# 학습 매캐변수를 설정한다.\n",
    "learning_rate = .001\n",
    "discount_reward = .99\n",
    "num_episodes = 2000\n",
    "max_step = 100\n",
    "max_early_stop_length = 20\n",
    "epsilon_decay = 0.9\n",
    "initial_epsilon = .5\n",
    "min_epsilon = .1\n",
    "batch_size = 64\n",
    "replay_counter = 0\n",
    "\n",
    "# 보상의 총합계를 담을 리스트를 생성한다.\n",
    "rewardList = []\n",
    "\n",
    "def update_weights_target_model():\n",
    "    target_Q_Network_model.set_weights(\n",
    "        Q_Network_model.get_weights()\n",
    "    )\n",
    "\n",
    "def update_from_memory(network, target_network):\n",
    "    global replay_counter\n",
    "    observation_batch = np.ndarray(shape=[batch_size, input_size])\n",
    "    y_batch = np.ndarray(shape=[batch_size, output_size])\n",
    "  \n",
    "    minibatch = random.sample(REPLAY_MEMORY, batch_size)\n",
    "    i = 0\n",
    "    for sample in minibatch:\n",
    "        observation, action, reward, next_observation, done = sample # unpacking\n",
    "        \n",
    "        # policy prediction for a given state\n",
    "        Q_values = network.predict(observation)\n",
    "        if done:\n",
    "            Q_values[0, action] = reward\n",
    "        else:\n",
    "            Q_values_next = target_network.predict(next_observation)\n",
    "            Q_values[0, action] = reward + discount_reward * np.max(Q_values_next)\n",
    "        observation_batch[i] = observation\n",
    "        y_batch[i] = Q_values\n",
    "        i += 1\n",
    "    \n",
    "    # DQN 알고리즘으로 학습\n",
    "    network.fit(\n",
    "        x=np.array(observation_batch),\n",
    "        y=np.array(y_batch),\n",
    "        batch_size=batch_size,\n",
    "        epochs=1,\n",
    "        verbose=0\n",
    "    )\n",
    "    if replay_counter % 10 == 0:\n",
    "        update_weights_target_model()\n",
    "    replay_counter += 1\n",
    "\n",
    "\n",
    "# Q-Network 생성\n",
    "input = tf.keras.Input(shape=[input_size, ], dtype='float32', name='input')\n",
    "output = tf.keras.layers.Dense(64, kernel_initializer='he_normal')(input)\n",
    "output = tf.keras.layers.LeakyReLU(alpha=0.05)(output)\n",
    "output = tf.keras.layers.Dense(64, kernel_initializer='he_normal')(output)\n",
    "output = tf.keras.layers.LeakyReLU(alpha=0.05)(output)\n",
    "output = tf.keras.layers.Dense(output_size, activation='linear')(output)\n",
    "\n",
    "Q_Network_model = tf.keras.Model(input, output)\n",
    "Q_Network_model.summary()\n",
    "\n",
    "Q_Network_model.compile(\n",
    "    loss='mse',\n",
    "    optimizer=tf.keras.optimizers.Adam(lr=learning_rate)\n",
    ")\n",
    "\n",
    "target_output = tf.keras.layers.Dense(64, kernel_initializer='he_normal')(input)\n",
    "target_output = tf.keras.layers.LeakyReLU(alpha=0.05)(target_output)\n",
    "target_output = tf.keras.layers.Dense(64, kernel_initializer='he_normal')(target_output)\n",
    "target_output = tf.keras.layers.LeakyReLU(alpha=0.05)(target_output)\n",
    "target_output = tf.keras.layers.Dense(output_size, activation='linear')(target_output)\n",
    "\n",
    "target_Q_Network_model = tf.keras.Model(input, target_output)\n",
    "target_Q_Network_model.summary()\n",
    "\n",
    "target_Q_Network_model.compile(\n",
    "    loss='mse',\n",
    "    optimizer=tf.keras.optimizers.Adam(lr=learning_rate)\n",
    ")\n",
    "            \n",
    "early_stop_length = 0\n",
    "stopped_episode_num = 0\n",
    "\n",
    "for current_episode_num in range(num_episodes):\n",
    "    # 환경을 리셋하고 첫 번째 새로운 관찰(observation)을 얻는다.\n",
    "    observation = env.reset()\n",
    "    rewardAll = 0\n",
    "    done = False\n",
    "    step = 0\n",
    "    epsilon = initial_epsilon\n",
    "  \n",
    "    print(current_episode_num, end=', ')\n",
    "    # Q 테이블 학습 알고리즘\n",
    "    while not done:\n",
    "        # Q 테이블로부터 (노이즈와 함께) 그리디하게 액션을 선택\n",
    "        observation = np.reshape(observation, (1, input_size))\n",
    "        Q_values = Q_Network_model.predict(observation)\n",
    "        if epsilon > min_epsilon:\n",
    "            epsilon *= epsilon_decay  \n",
    "        if np.random.rand(1) < epsilon:\n",
    "            action = env.action_space.sample()\n",
    "        else:\n",
    "            action = np.argmax(Q_values)\n",
    "      \n",
    "        # 환경으로부터 새로운 상태와 보상을 얻는다.\n",
    "        next_observation, reward, done, information = env.step(action)\n",
    "        next_observation = np.reshape(next_observation, (1, input_size))\n",
    "\n",
    "        # state, action, reward, next_state, done 을 메모리에 저장\n",
    "        REPLAY_MEMORY.append((observation, action, reward, next_observation, done))\n",
    "\n",
    "        # 메모리에 10000개 이상의 값이 들어가면 가장 먼저 들어간 것부터 삭제\n",
    "        if len(REPLAY_MEMORY) > 2000:\n",
    "            REPLAY_MEMORY.popleft()\n",
    "\n",
    "        rewardAll += reward\n",
    "        observation = next_observation\n",
    "        step += 1\n",
    "  \n",
    "    # update model\n",
    "    if len(REPLAY_MEMORY) > batch_size:\n",
    "#         for _ in range(10):\n",
    "        update_from_memory(Q_Network_model, target_Q_Network_model)\n",
    "                       \n",
    "    early_stop_length += 1\n",
    "    if rewardAll <= 195.:\n",
    "        early_stop_length = 0\n",
    "    if early_stop_length >= max_early_stop_length:\n",
    "        break\n",
    "    rewardList.append(rewardAll)\n",
    "    stopped_episode_num = current_episode_num\n",
    "\n",
    "print(\"Score over time: \" + str(sum(rewardList) / num_episodes))\n",
    "print(\"Stopped episode num: \" + str(current_episode_num))\n",
    "\n",
    "plt.plot(rewardList)\n",
    "plt.show()"
   ]
  },
  {
   "cell_type": "code",
   "execution_count": 7,
   "metadata": {},
   "outputs": [
    {
     "name": "stderr",
     "output_type": "stream",
     "text": [
      "/Users/jubong/anaconda3/lib/python3.6/site-packages/gym/envs/registration.py:14: PkgResourcesDeprecationWarning: Parameters to load are deprecated.  Call .resolve and .require separately.\n",
      "  result = entry_point.load(False)\n"
     ]
    },
    {
     "name": "stdout",
     "output_type": "stream",
     "text": [
      "200\n",
      "400\n",
      "600\n",
      "800\n",
      "1000\n"
     ]
    },
    {
     "data": {
      "text/html": [
       "<video alt=\"test\" autoplay \n",
       "                    loop controls style=\"height: 400px;\">\n",
       "                    <source src=\"data:video/mp4;base64,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\" type=\"video/mp4\" />\n",
       "                 </video>"
      ],
      "text/plain": [
       "<IPython.core.display.HTML object>"
      ]
     },
     "metadata": {},
     "output_type": "display_data"
    }
   ],
   "source": [
    "import os\n",
    "import glob\n",
    "\n",
    "mp4list = glob.glob('video/*.mp4')\n",
    "for f in mp4list:\n",
    "    os.remove(f)\n",
    "\n",
    "env = wrap_env(gym.make(\"CartPole-v0\"))\n",
    "\n",
    "observation = env.reset()\n",
    "t = 0\n",
    "\n",
    "while True:\n",
    "    env.render()\n",
    "    observation = np.reshape(observation, (1, input_size))\n",
    "    #your agent goes here\n",
    "    action = np.argmax(Q_Network_model.predict(observation))\n",
    "         \n",
    "    observation, reward, done, info = env.step(action)\n",
    "    t += 1\n",
    "    if done:\n",
    "        print(t)\n",
    "        observation = env.reset()\n",
    "    if t >= 1000:\n",
    "        break\n",
    "\n",
    "env.close()\n",
    "show_video()"
   ]
  },
  {
   "cell_type": "code",
   "execution_count": 9,
   "metadata": {},
   "outputs": [
    {
     "name": "stderr",
     "output_type": "stream",
     "text": [
      "/Users/jubong/anaconda3/lib/python3.6/site-packages/gym/envs/registration.py:14: PkgResourcesDeprecationWarning: Parameters to load are deprecated.  Call .resolve and .require separately.\n",
      "  result = entry_point.load(False)\n"
     ]
    }
   ],
   "source": [
    "import gym\n",
    "env = gym.make('CartPole-v0')\n",
    "env.reset()\n",
    "while True:\n",
    "    env.render()\n",
    "    observation = np.reshape(observation, (1, input_size))\n",
    "    #your agent goes here\n",
    "    action = np.argmax(Q_Network_model.predict(observation))\n",
    "         \n",
    "    observation, reward, done, info = env.step(action)\n",
    "    if done:\n",
    "        break\n",
    "env.close()"
   ]
  },
  {
   "cell_type": "code",
   "execution_count": null,
   "metadata": {},
   "outputs": [],
   "source": []
  }
 ],
 "metadata": {
  "kernelspec": {
   "display_name": "lec",
   "language": "python",
   "name": "lec"
  },
  "language_info": {
   "codemirror_mode": {
    "name": "ipython",
    "version": 3
   },
   "file_extension": ".py",
   "mimetype": "text/x-python",
   "name": "python",
   "nbconvert_exporter": "python",
   "pygments_lexer": "ipython3",
   "version": "3.6.8"
  }
 },
 "nbformat": 4,
 "nbformat_minor": 2
}
